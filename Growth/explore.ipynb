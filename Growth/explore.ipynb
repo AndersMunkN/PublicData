{
 "cells": [
  {
   "cell_type": "markdown",
   "metadata": {},
   "source": [
    "# Project II: Economic Growth \n",
    "\n",
    "This notebook will help you getting started with analyzing the growth dataset, `growth.csv`."
   ]
  },
  {
   "cell_type": "code",
   "execution_count": 2,
   "metadata": {},
   "outputs": [],
   "source": [
    "import pandas as pd \n",
    "import numpy as np \n",
    "import statsmodels.formula.api as smf\n",
    "import matplotlib.pyplot as plt"
   ]
  },
  {
   "cell_type": "markdown",
   "metadata": {},
   "source": [
    "## Read data "
   ]
  },
  {
   "cell_type": "code",
   "execution_count": 44,
   "metadata": {},
   "outputs": [
    {
     "name": "stdout",
     "output_type": "stream",
     "text": [
      "The data contains 214 rows (countries) and 85 columns (variables).\n"
     ]
    }
   ],
   "source": [
    "dat = pd.read_csv('growth.csv')\n",
    "lbldf = pd.read_csv('labels.csv', index_col='variable')\n",
    "lbl_all = lbldf.label.to_dict() # as a dictionary\n",
    "print(f'The data contains {dat.shape[0]} rows (countries) and {dat.shape[1]} columns (variables).')"
   ]
  },
  {
   "cell_type": "markdown",
   "metadata": {},
   "source": [
    "# Descriptive plots"
   ]
  },
  {
   "cell_type": "code",
   "execution_count": 15,
   "metadata": {},
   "outputs": [
    {
     "data": {
      "image/png": "[encoded data removed]",
      "text/plain": [
       "<Figure size 432x288 with 1 Axes>"
      ]
     },
     "metadata": {
      "needs_background": "light"
     },
     "output_type": "display_data"
    }
   ],
   "source": [
    "dat.plot.scatter(x='lgdp_initial', y='gdp_growth');"
   ]
  },
  {
   "cell_type": "code",
   "execution_count": 16,
   "metadata": {},
   "outputs": [],
   "source": [
    "import seaborn as sns \n",
    "sns.scatterplot(x='lgdp_initial', y='gdp_growth', data=dat, hue='malfal');"
   ]
  },
  {
   "cell_type": "markdown",
   "metadata": {},
   "source": [
    "# Collections of variables\n",
    "\n",
    "In order to make the analysis simpler, it may be convenient to collect variables in sets that belong together naturally. "
   ]
  },
  {
   "cell_type": "code",
   "execution_count": 4,
   "metadata": {},
   "outputs": [],
   "source": [
    "# all available variables\n",
    "vv_institutions = ['marketref', 'dem', 'demCGV', 'demBMR', 'demreg'] \n",
    "vv_geography = [\n",
    "        'tropicar','distr', 'distcr', 'distc','suitavg','temp', 'suitgini', 'elevavg', 'elevstd',\n",
    "        'kgatr', 'precip', 'area', 'abslat', 'cenlong', 'area_ar', 'rough','landlock', \n",
    "        'africa',  'asia', 'oceania', 'americas' # 'europe' is the reference\n",
    "]\n",
    "vv_geneticdiversity = ['pdiv', 'pdiv_aa', 'pdivhmi', 'pdivhmi_aa']\n",
    "vv_historical = ['pd1000', 'pd1500', 'pop1000', 'pop1500', 'ln_yst'] # these are often missing: ['pd1', 'pop1']\n",
    "vv_religion = ['pprotest', 'pcatholic', 'pmuslim']\n",
    "vv_danger = ['yellow', 'malfal',  'uvdamage']\n",
    "vv_resources = ['oilres', 'goldm', 'iron', 'silv', 'zinc']\n",
    "vv_educ = ['ls_bl', 'lh_bl'] # secondary, tertiary: we exclude 'lp_bl' (primary) to avoid rank failure \n",
    "\n",
    "vv_all = {'institutions': vv_institutions, \n",
    "          'geography': vv_geography, \n",
    "          'geneticdiversity': vv_geneticdiversity,\n",
    "          'historical': vv_historical,\n",
    "          'religion': vv_religion,\n",
    "          'danger':vv_danger, \n",
    "          'resources':vv_resources\n",
    "         }\n",
    "list_of_lists = vv_all.values()\n",
    "vv_all['all'] = [v for sublist in list_of_lists for v in sublist]\n"
   ]
  },
  {
   "cell_type": "code",
   "execution_count": 5,
   "metadata": {},
   "outputs": [],
   "source": [
    "# convenient to keep a column of ones in the dataset\n",
    "dat['constant'] = np.ones((dat.shape[0],))"
   ]
  },
  {
   "cell_type": "markdown",
   "metadata": {},
   "source": [
    "# Simple OLS"
   ]
  },
  {
   "cell_type": "code",
   "execution_count": 42,
   "metadata": {},
   "outputs": [
    {
     "name": "stdout",
     "output_type": "stream",
     "text": [
      "[[ 2.24792211]\n",
      " [-0.08713416]]\n"
     ]
    }
   ],
   "source": [
    "# 1. avoiding missings \n",
    "I = dat[['gdp_growth', 'lgdp_initial']].notnull().all(axis=1)\n",
    "\n",
    "# 2. extract dataset \n",
    "y = dat.loc[I, 'gdp_growth'].values.reshape((-1,1)) * 100.0\n",
    "X = dat.loc[I, ['constant','lgdp_initial']].values\n",
    "\n",
    "# 3. run OLS\n",
    "betahat = np.linalg.inv(X.T @ X) @ X.T @ y\n",
    "print(betahat)"
   ]
  },
  {
   "cell_type": "markdown",
   "metadata": {},
   "source": [
    "# Adding more controls"
   ]
  },
  {
   "cell_type": "code",
   "execution_count": 12,
   "metadata": {},
   "outputs": [],
   "source": [
    "vs = vv_all['geography'] + vv_all['religion']\n",
    "xs = ['lgdp_initial', 'pop_growth', 'investment_rate'] + vs\n",
    "\n",
    "# avoiding missings\n",
    "all_vars = ['gdp_growth'] + xs\n",
    "I = dat[all_vars].notnull().all(1)\n",
    "\n",
    "# extract data\n",
    "X = dat.loc[I, xs].values\n",
    "y = dat.loc[I,'gdp_growth'].values.reshape((-1,1)) * 100. #easier to read output when growth is in 100%\n",
    "\n",
    "# add const. (unless this breaks the rank condition)\n",
    "oo = np.ones((I.sum(),1))\n",
    "X = np.hstack([X, oo])\n",
    "xs.append('constant') # we put it in as the last element\n",
    "\n",
    "# check the rank condition\n",
    "K = X.shape[1]\n",
    "assert np.linalg.matrix_rank(X) == X.shape[1], f'X does not have full rank'\n",
    "\n",
    "# compute the OLS estimator\n",
    "betas = np.linalg.inv(X.T @ X) @ X.T @ y"
   ]
  },
  {
   "cell_type": "code",
   "execution_count": 13,
   "metadata": {},
   "outputs": [
    {
     "name": "stdout",
     "output_type": "stream",
     "text": [
      "Mean y =  1.52% growth per year\n"
     ]
    },
    {
     "data": {
      "text/html": [
       "<div>\n",
       "<style scoped>\n",
       "    .dataframe tbody tr th:only-of-type {\n",
       "        vertical-align: middle;\n",
       "    }\n",
       "\n",
       "    .dataframe tbody tr th {\n",
       "        vertical-align: top;\n",
       "    }\n",
       "\n",
       "    .dataframe thead th {\n",
       "        text-align: right;\n",
       "    }\n",
       "</style>\n",
       "<table border=\"1\" class=\"dataframe\">\n",
       "  <thead>\n",
       "    <tr style=\"text-align: right;\">\n",
       "      <th></th>\n",
       "      <th>β</th>\n",
       "    </tr>\n",
       "  </thead>\n",
       "  <tbody>\n",
       "    <tr>\n",
       "      <th>lgdp_initial</th>\n",
       "      <td>-1.118</td>\n",
       "    </tr>\n",
       "    <tr>\n",
       "      <th>pop_growth</th>\n",
       "      <td>6.830</td>\n",
       "    </tr>\n",
       "    <tr>\n",
       "      <th>investment_rate</th>\n",
       "      <td>0.068</td>\n",
       "    </tr>\n",
       "    <tr>\n",
       "      <th>tropicar</th>\n",
       "      <td>-0.411</td>\n",
       "    </tr>\n",
       "    <tr>\n",
       "      <th>distr</th>\n",
       "      <td>-0.000</td>\n",
       "    </tr>\n",
       "    <tr>\n",
       "      <th>distcr</th>\n",
       "      <td>0.001</td>\n",
       "    </tr>\n",
       "    <tr>\n",
       "      <th>distc</th>\n",
       "      <td>-0.003</td>\n",
       "    </tr>\n",
       "    <tr>\n",
       "      <th>suitavg</th>\n",
       "      <td>-1.063</td>\n",
       "    </tr>\n",
       "    <tr>\n",
       "      <th>temp</th>\n",
       "      <td>-0.204</td>\n",
       "    </tr>\n",
       "    <tr>\n",
       "      <th>suitgini</th>\n",
       "      <td>-0.771</td>\n",
       "    </tr>\n",
       "    <tr>\n",
       "      <th>elevavg</th>\n",
       "      <td>-1.380</td>\n",
       "    </tr>\n",
       "    <tr>\n",
       "      <th>elevstd</th>\n",
       "      <td>-0.413</td>\n",
       "    </tr>\n",
       "    <tr>\n",
       "      <th>kgatr</th>\n",
       "      <td>-0.498</td>\n",
       "    </tr>\n",
       "    <tr>\n",
       "      <th>precip</th>\n",
       "      <td>-0.006</td>\n",
       "    </tr>\n",
       "    <tr>\n",
       "      <th>area</th>\n",
       "      <td>0.000</td>\n",
       "    </tr>\n",
       "    <tr>\n",
       "      <th>abslat</th>\n",
       "      <td>-0.063</td>\n",
       "    </tr>\n",
       "    <tr>\n",
       "      <th>cenlong</th>\n",
       "      <td>0.011</td>\n",
       "    </tr>\n",
       "    <tr>\n",
       "      <th>area_ar</th>\n",
       "      <td>-0.000</td>\n",
       "    </tr>\n",
       "    <tr>\n",
       "      <th>rough</th>\n",
       "      <td>-0.929</td>\n",
       "    </tr>\n",
       "    <tr>\n",
       "      <th>landlock</th>\n",
       "      <td>0.850</td>\n",
       "    </tr>\n",
       "    <tr>\n",
       "      <th>africa</th>\n",
       "      <td>-2.354</td>\n",
       "    </tr>\n",
       "    <tr>\n",
       "      <th>asia</th>\n",
       "      <td>-0.943</td>\n",
       "    </tr>\n",
       "    <tr>\n",
       "      <th>oceania</th>\n",
       "      <td>-0.730</td>\n",
       "    </tr>\n",
       "    <tr>\n",
       "      <th>americas</th>\n",
       "      <td>0.576</td>\n",
       "    </tr>\n",
       "    <tr>\n",
       "      <th>pprotest</th>\n",
       "      <td>-0.009</td>\n",
       "    </tr>\n",
       "    <tr>\n",
       "      <th>pcatholic</th>\n",
       "      <td>0.001</td>\n",
       "    </tr>\n",
       "    <tr>\n",
       "      <th>pmuslim</th>\n",
       "      <td>-0.001</td>\n",
       "    </tr>\n",
       "    <tr>\n",
       "      <th>constant</th>\n",
       "      <td>18.405</td>\n",
       "    </tr>\n",
       "  </tbody>\n",
       "</table>\n",
       "</div>"
      ],
      "text/plain": [
       "                      β\n",
       "lgdp_initial     -1.118\n",
       "pop_growth        6.830\n",
       "investment_rate   0.068\n",
       "tropicar         -0.411\n",
       "distr            -0.000\n",
       "distcr            0.001\n",
       "distc            -0.003\n",
       "suitavg          -1.063\n",
       "temp             -0.204\n",
       "suitgini         -0.771\n",
       "elevavg          -1.380\n",
       "elevstd          -0.413\n",
       "kgatr            -0.498\n",
       "precip           -0.006\n",
       "area              0.000\n",
       "abslat           -0.063\n",
       "cenlong           0.011\n",
       "area_ar          -0.000\n",
       "rough            -0.929\n",
       "landlock          0.850\n",
       "africa           -2.354\n",
       "asia             -0.943\n",
       "oceania          -0.730\n",
       "americas          0.576\n",
       "pprotest         -0.009\n",
       "pcatholic         0.001\n",
       "pmuslim          -0.001\n",
       "constant         18.405"
      ]
     },
     "execution_count": 13,
     "metadata": {},
     "output_type": "execute_result"
    }
   ],
   "source": [
    "# format nicely\n",
    "print(f'Mean y = {y.mean(): 5.2f}% growth per year')\n",
    "pd.DataFrame({'β': betas[:,0]}, index=xs).round(3)"
   ]
  }
 ],
 "metadata": {
  "kernelspec": {
   "display_name": "Python 3",
   "language": "python",
   "name": "python3"
  },
  "language_info": {
   "codemirror_mode": {
    "name": "ipython",
    "version": 3
   },
   "file_extension": ".py",
   "mimetype": "text/x-python",
   "name": "python",
   "nbconvert_exporter": "python",
   "pygments_lexer": "ipython3",
   "version": "3.8.2"
  }
 },
 "nbformat": 4,
 "nbformat_minor": 4
}
