{
 "cells": [
  {
   "cell_type": "markdown",
   "metadata": {},
   "source": [
    "# Materialize eBay data\n",
    "\n",
    "1. Download and unzip the file `anon_bo_lists.csv` and put it in a subfolder, `./Raw/`.\n",
    "2. Run this notebook.\n",
    "3. Clean up unused large files if needed.\n",
    "\n",
    "**Output:** `ebay_smaller.parquet` (a smaller, more manageable dataset)\n",
    "\n",
    "***Warning:*** The file is extremely large to read in and work with. "
   ]
  },
  {
   "cell_type": "code",
   "execution_count": null,
   "metadata": {},
   "outputs": [],
   "source": [
    "import pandas as pd \n",
    "import numpy as np "
   ]
  },
  {
   "cell_type": "code",
   "execution_count": null,
   "metadata": {},
   "outputs": [],
   "source": [
    "dat = pd.read_csv('Raw/anon_bo_lists.csv')"
   ]
  },
  {
   "cell_type": "markdown",
   "metadata": {},
   "source": [
    "# Drop some rows"
   ]
  },
  {
   "cell_type": "code",
   "execution_count": null,
   "metadata": {},
   "outputs": [],
   "source": [
    "dat = dat[dat.item_price.notnull()].copy()"
   ]
  },
  {
   "cell_type": "code",
   "execution_count": null,
   "metadata": {},
   "outputs": [],
   "source": [
    "cats = {1: 'Collectibles',\t99: 'Everything Else',\t220: 'Toys & Hobbies',\t237: 'Dolls & Bears',\n",
    "        260:'Stamps',\t267: 'Books',\t281: 'Jewelry & Watches',\t293: 'Computers & Electronics',\n",
    "        293: 'Consumer Electronics',\t316: 'Specialty Services',\t550: 'Art',\n",
    "        619: 'Musical Instruments & Gear',\t625: 'Cameras & Photo',\t870: 'Pottery & Glass',\n",
    "        888: 'Sporting Goods',\t1249: 'Video Games & Consoles',\t1281: 'Pet Supplies',\n",
    "        1305: 'Tickets & Experiences',\t2984: 'Baby',\t3252: 'Travel',\t6000: 'eBay Motors',\n",
    "        10542: 'Real Estate',\t11116: 'Coins',\t11116: 'Coins & Paper Money',\t11232: 'DVDs & Movies',\n",
    "        11233: 'Music',\t11450: 'Clothing Shoes & Accessories',\t11700: 'Home',\t11700: 'Home & Garden',\n",
    "        12576: 'Business & Industrial',\t14339: 'Crafts',\t15032: 'Cell Phones & Accessories',\t20081:\n",
    "        'Antiques',\t26395: 'Health & Beauty',\t45100: 'Entertainment Memorabilia',\n",
    "        58058: 'Computers/Tablets & Networking',\t64482: 'Sports Mem Cards & Fan Shop',\n",
    "        172008: 'Gift Cards & Coupons'}"
   ]
  },
  {
   "cell_type": "markdown",
   "metadata": {},
   "source": [
    "Drop the two largest and two smallest categories. "
   ]
  },
  {
   "cell_type": "code",
   "execution_count": null,
   "metadata": {},
   "outputs": [],
   "source": [
    "I = dat.metacat.isin(['Clothing Shoes & Accessories', 'Everything Else', 'Collectibles', 'Real Estate', 'Specialty Services'])\n",
    "dat.loc[I, 'metacat'].value_counts()\n",
    "\n",
    "# replace dat so that we clean up and reduce the memory footprint \n",
    "dat = dat.loc[I == False, :].copy()"
   ]
  },
  {
   "cell_type": "code",
   "execution_count": 23,
   "metadata": {},
   "outputs": [],
   "source": [
    "dat['metacat'] = dat.meta_categ_id.map(cats).astype('category')"
   ]
  },
  {
   "cell_type": "markdown",
   "metadata": {},
   "source": [
    "No need to be storing the original index. "
   ]
  },
  {
   "cell_type": "code",
   "execution_count": null,
   "metadata": {},
   "outputs": [],
   "source": [
    "dat.set_index('anon_item_id', inplace=True)"
   ]
  },
  {
   "cell_type": "code",
   "execution_count": 25,
   "metadata": {},
   "outputs": [],
   "source": [
    "cols_del = ['count2', 'ref_price2', 'count3', 'ref_price3', 'count4', 'ref_price4']\n",
    "for c in cols_del: \n",
    "    del dat[c]"
   ]
  },
  {
   "cell_type": "code",
   "execution_count": 27,
   "metadata": {},
   "outputs": [
    {
     "name": "stdout",
     "output_type": "stream",
     "text": [
      "<class 'pandas.core.frame.DataFrame'>\n",
      "Int64Index: 13230182 entries, 14203427 to 15499758\n",
      "Data columns (total 32 columns):\n",
      " #   Column              Dtype   \n",
      "---  ------              -----   \n",
      " 0   anon_title_code     int64   \n",
      " 1   anon_product_id     int64   \n",
      " 2   anon_leaf_categ_id  int64   \n",
      " 3   anon_slr_id         int64   \n",
      " 4   anon_buyer_id       float64 \n",
      " 5   auct_start_dt       object  \n",
      " 6   fdbk_score_start    float64 \n",
      " 7   fdbk_pstv_start     float64 \n",
      " 8   auct_end_dt         object  \n",
      " 9   start_price_usd     float64 \n",
      " 10  photo_count         int64   \n",
      " 11  to_lst_cnt          int64   \n",
      " 12  bo_lst_cnt          int64   \n",
      " 13  count1              float64 \n",
      " 14  ref_price1          float64 \n",
      " 15  view_item_count     int64   \n",
      " 16  wtchr_count         int64   \n",
      " 17  meta_categ_id       int64   \n",
      " 18  item_price          float64 \n",
      " 19  bo_ck_yn            float64 \n",
      " 20  ship_time_slowest   float64 \n",
      " 21  ship_time_fastest   float64 \n",
      " 22  ship_time_chosen    float64 \n",
      " 23  decline_price       float64 \n",
      " 24  accept_price        float64 \n",
      " 25  bin_rev             int64   \n",
      " 26  lstg_gen_type_id    float64 \n",
      " 27  store               int64   \n",
      " 28  slr_us              int64   \n",
      " 29  buyer_us            int64   \n",
      " 30  metacat             category\n",
      " 31  item_condition      category\n",
      "dtypes: category(2), float64(14), int64(14), object(2)\n",
      "memory usage: 3.1+ GB\n"
     ]
    }
   ],
   "source": [
    "dat.info()"
   ]
  },
  {
   "cell_type": "markdown",
   "metadata": {},
   "source": [
    "# Data conversions"
   ]
  },
  {
   "cell_type": "code",
   "execution_count": 28,
   "metadata": {},
   "outputs": [],
   "source": [
    "cats_condition = {1000.0: 'New',1500.0: 'New other',1750.0: 'New with defects',2000.0: 'Manufacturer refurbished',2500.0: 'Seller refurbished',2750.0: 'Like New',3000.0: 'Used',4000.0: 'Very Good',5000.0: 'Good',6000.0: 'Acceptable',7000.0: 'For parts / not working'}"
   ]
  },
  {
   "cell_type": "code",
   "execution_count": null,
   "metadata": {},
   "outputs": [],
   "source": [
    "dat['item_condition'] = dat.item_cndtn_id.map(cats_condition).astype('category')\n",
    "del dat['item_cndtn_id']"
   ]
  },
  {
   "cell_type": "code",
   "execution_count": 30,
   "metadata": {},
   "outputs": [],
   "source": [
    "dat.auct_end_dt = pd.to_datetime(dat.auct_end_dt)\n",
    "dat.auct_start_dt = pd.to_datetime(dat.auct_start_dt)"
   ]
  },
  {
   "cell_type": "code",
   "execution_count": 31,
   "metadata": {},
   "outputs": [],
   "source": [
    "cols_bool = ['accept_price', 'decline_price', 'slr_us', 'buyer_us', 'bo_ck_yn', 'bin_rev', 'store', 'bin_rev']\n",
    "for c in cols_bool: \n",
    "    dat[c] = dat[c].astype('bool')"
   ]
  },
  {
   "cell_type": "code",
   "execution_count": 33,
   "metadata": {},
   "outputs": [],
   "source": [
    "cols_del = ['ship_time_fastest', 'ship_time_slowest', 'ship_time_chosen']\n",
    "for c in cols_del: \n",
    "    del dat[c]"
   ]
  },
  {
   "cell_type": "markdown",
   "metadata": {},
   "source": [
    "# Save"
   ]
  },
  {
   "cell_type": "code",
   "execution_count": 43,
   "metadata": {},
   "outputs": [],
   "source": [
    "dat.to_parquet('ebay_smaller.parquet')"
   ]
  },
  {
   "cell_type": "markdown",
   "metadata": {},
   "source": [
    "# Simple descriptives\n",
    "\n",
    "We want to compare prices across listings. To do this, the price is normalized to make it more comparable. There are two obvious candidates for normalizing the price: \n",
    "\n",
    "1. The starting price: bidders tend to not pay more than the listing price, \n",
    "2. A \"reference price\" available in the raw dataset: this is an average within a narrow product type category. "
   ]
  },
  {
   "cell_type": "code",
   "execution_count": 44,
   "metadata": {},
   "outputs": [],
   "source": [
    "dat['price_rel2start'] = dat.item_price / dat.start_price_usd"
   ]
  },
  {
   "cell_type": "code",
   "execution_count": 55,
   "metadata": {},
   "outputs": [],
   "source": [
    "dat['price_rel2ref'] = dat.item_price / dat.ref_price1"
   ]
  },
  {
   "cell_type": "markdown",
   "metadata": {},
   "source": [
    "Subsample dataset to a smaller set of categories"
   ]
  },
  {
   "cell_type": "code",
   "execution_count": 67,
   "metadata": {},
   "outputs": [],
   "source": [
    "groups = ['Art', 'Cell Phones & Accessories', 'Musical Instruments & Gear', 'Antiques']\n",
    "I = (dat.metacat.isin(groups)) & (dat.store == False)\n",
    "print(f'original {dat.shape}')\n",
    "print(f'Reduced {I.sum()} ({I.mean()})')\n",
    "dat2 = dat[I].copy()"
   ]
  },
  {
   "cell_type": "code",
   "execution_count": 70,
   "metadata": {},
   "outputs": [],
   "source": [
    "import matplotlib.pyplot as plt"
   ]
  },
  {
   "cell_type": "code",
   "execution_count": 71,
   "metadata": {},
   "outputs": [],
   "source": [
    "dat2.metacat = dat2.metacat.cat.remove_unused_categories() # pandas still adds plots for empty categories... :("
   ]
  },
  {
   "cell_type": "code",
   "execution_count": 72,
   "metadata": {},
   "outputs": [
    {
     "data": {
      "image/png": "[encoded data removed]",
      "text/plain": [
       "<Figure size 432x288 with 4 Axes>"
      ]
     },
     "metadata": {
      "needs_background": "light"
     },
     "output_type": "display_data"
    }
   ],
   "source": [
    "ax=dat2[(dat2.price_rel2ref <= 2) & (dat2.price_rel2ref != 1.0)].hist('price_rel2ref', by='metacat', density=True, bins=100, alpha=0.5); "
   ]
  },
  {
   "cell_type": "code",
   "execution_count": 73,
   "metadata": {},
   "outputs": [
    {
     "data": {
      "image/png": "[encoded data removed]",
      "text/plain": [
       "<Figure size 432x288 with 4 Axes>"
      ]
     },
     "metadata": {
      "needs_background": "light"
     },
     "output_type": "display_data"
    }
   ],
   "source": [
    "ax=dat2[(dat2.price_rel2start <= 1.05) & (dat2.price_rel2start != 1.0)].hist('price_rel2start', by='metacat', density=True, bins=100, alpha=0.5); "
   ]
  }
 ],
 "metadata": {
  "kernelspec": {
   "display_name": "Python 3",
   "language": "python",
   "name": "python3"
  },
  "language_info": {
   "codemirror_mode": {
    "name": "ipython",
    "version": 3
   },
   "file_extension": ".py",
   "mimetype": "text/x-python",
   "name": "python",
   "nbconvert_exporter": "python",
   "pygments_lexer": "ipython3",
   "version": "3.8.2"
  }
 },
 "nbformat": 4,
 "nbformat_minor": 4
}
