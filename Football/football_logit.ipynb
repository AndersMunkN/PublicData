{
 "cells": [
  {
   "cell_type": "markdown",
   "metadata": {},
   "source": [
    "# Football Betting with Multinomial Logit\n",
    "\n",
    "* **Data Source:** [https://www.kaggle.com/hugomathien/soccer](https://www.kaggle.com/hugomathien/soccer)\n",
    "* **Author:** Anders Munk-Nielsen"
   ]
  },
  {
   "cell_type": "code",
   "execution_count": 1,
   "metadata": {},
   "outputs": [],
   "source": [
    "import pandas as pd \n",
    "import numpy as np \n",
    "from scipy.optimize import minimize \n",
    "import statsmodels.formula.api as smf \n",
    "import seaborn as sns\n",
    "import matplotlib.pyplot as plt\n",
    "sns.set_theme()"
   ]
  },
  {
   "cell_type": "code",
   "execution_count": 2,
   "metadata": {},
   "outputs": [],
   "source": [
    "# Read\n",
    "dat = pd.read_csv('football_probs.csv')\n",
    "\n",
    "# Data types \n",
    "dat.date = pd.to_datetime(dat.date)\n",
    "cols_to_cat = ['league', 'season', 'team', 'country']\n",
    "for c in cols_to_cat: \n",
    "    dat[c] = dat[c].astype('category')"
   ]
  },
  {
   "cell_type": "markdown",
   "metadata": {},
   "source": [
    "# Outcome\n",
    "\n",
    "The outcome, $y$, can take three values, $y \\in \\{ 0, 1, 2\\}$, corresponding to Lose, Draw, and Win, respectively. "
   ]
  },
  {
   "cell_type": "code",
   "execution_count": 3,
   "metadata": {},
   "outputs": [],
   "source": [
    "dat['y'] = 0 # loss\n",
    "dat.loc[dat.goal_diff == 0.0 , 'y'] = 1 # draw \n",
    "dat.loc[dat.goal_diff >  0.0 , 'y'] = 2 # win \n",
    "\n",
    "assert (dat.loc[dat.goal_diff < 0.0 , 'y'] == 0).all()"
   ]
  },
  {
   "cell_type": "markdown",
   "metadata": {},
   "source": [
    "# Conditional Probabilities\n",
    "\n",
    "We assume that the probability that $y$ takes each of the values is given by \n",
    "$$ \\Pr (y_i = j | \\mathbf{X}_i, \\theta) = \\frac{\\exp(\\mathbf{x}_{ij} \\theta_j)}{\\sum_{k=0,1,2} \\exp(\\mathbf{x}_{ik} \\theta_k)}. $$\n",
    "\n",
    "In other words, we can think of $v_{ij} \\equiv \\mathbf{x}_{ij}\\theta_j$ as the scalar index that determines the relative probabilities: the higher is $v_{i1}$ (for fixed $v_{i0},v_{i2}$), the more likely it is that the outcome is $y_i = 1$. \n",
    "\n",
    "Compared to other models we have seen, we now have $\\mathbf{x}_{ij}$ varying both over $i$ and $j$. Previously, we have otherwise looked at the *Multinomial Logit* model ($\\mathbf{x}$ only varies with $i$, e.g. years of schooling, or alcohol abuse), or the *Conditional Logit* model ($\\mathbf{x}$ only varies with $j$, e.g. car attributes). In this dataset, we will allow for covariates that vary over $i$ but which also do not necessarily enter in the \"utility\" for all outcomes. E.g. we may assume that the Bet365 Probability that the Away team wins, `B365_PrA`, should only affect the probability of Away winning (even though we could allow it to enter in the other utilities. Other regressors, however, like the `home` dummy (for whether the match is played at the home stadium) affects all outcomes, but with different coefficients. \n",
    "\n",
    "## Normalization, short version\n",
    "\n",
    "We have to normalize $\\theta_j = \\mathbf{0}_{K\\times 1}$ for one $j$. We will choose to normalize $j=0$. \n",
    "* It does not matter which $j$ we choose as the normalizing alternative, except of course for the interpretation of the coefficients. \n",
    "\n",
    "## Estimation  \n",
    "\n",
    "This implies that our probabilities are \n",
    "$$ \\Pr(y_i = j| \\mathbf{x}_{i1}, \\mathbf{x}_{i2}; \\boldsymbol{\\theta}_1, \\boldsymbol{\\theta}_2) = \n",
    "\\begin{cases}\n",
    "\\frac{1}{1+\\exp(\\mathbf{x}_{i1}\\boldsymbol{\\theta}_{1})+\\exp(\\mathbf{x}_{i2}\\boldsymbol{\\theta}_{2})} & \\text{if }j=0\\\\\n",
    "\\frac{\\exp(\\mathbf{x}_{ij}\\boldsymbol{\\theta}_{j})}{1+\\exp(\\mathbf{x}_{i1}\\boldsymbol{\\theta}_{1})+\\exp(\\mathbf{x}_{i2}\\boldsymbol{\\theta}_{2})} & \\text{otherwise.}\n",
    "\\end{cases}\n",
    "$$\n",
    "\n",
    "Our full vector of parameters thus consists of $(\\boldsymbol{\\theta}_1, \\boldsymbol{\\theta}_2)$, which is $2K$ long. (There are $J-1 = 2$ sets of coefficients, because we have normalized one of our $J=3$ alternatives to have zero coefficients.) \n",
    "\n",
    "## Normalization, Longer version\n",
    "\n",
    "Since probabilities must sum to 100%, we cannot allow $v_{ij}$ to be changing freely. For instance, if we add the same scalar, $\\lambda \\in \\mathbb{R}$, to all indices, then we get unchanged probabilities: \n",
    "$$ \\frac{\\exp(\\lambda + v_{ij})}{\\sum_{k=0,1,2} \\exp(\\lambda + v_{i\\ell})} = \\underset{=1}{\\underbrace{\\frac{\\exp(\\lambda)}{\\exp(\\lambda)}}} \\frac{\\exp(\\mathbf{x}_{ij} \\theta_j)}{\\sum_{k=0,1,2} \\exp(\\mathbf{x}_{ik} \\theta_k)}. $$ \n",
    "This means that we cannot distinguish the implied behavior by the indices $(v_{i0},v_{i1},v_{i2})$, and that implied by $(v_{i0}+\\lambda,v_{i1}+\\lambda,v_{i2}+\\lambda)$: The choice probabilities are analytically identical. This means that we cannot include a common intercept in all $v_{ij}$, which in practice implies that we can have at most $J-1 = 2$ intercepts. Similar arguments will explain why we cannot have all regressors entering in all $v_{ij}$, which amounts to saying that we have to set $\\theta_j = \\mathbf{0}_K$ for one alternative $j$. "
   ]
  },
  {
   "cell_type": "markdown",
   "metadata": {},
   "source": [
    "## Setting up regressors"
   ]
  },
  {
   "cell_type": "code",
   "execution_count": 4,
   "metadata": {},
   "outputs": [],
   "source": [
    "# add an explanatory variable: home dummy, with separate effect on Pr(D) and Pr(W)\n",
    "dat['home_W'] = dat.home.copy() * 1.0 \n",
    "dat['home_D'] = dat.home.copy() * 1.0 \n",
    "\n",
    "dat['const_W'] = 1.0 \n",
    "dat['const_D'] = 1.0 "
   ]
  },
  {
   "cell_type": "code",
   "execution_count": 5,
   "metadata": {},
   "outputs": [
    {
     "name": "stdout",
     "output_type": "stream",
     "text": [
      "Chosen columns: ['B365_PrD', 'B365_PrW', 'home_D', 'home_W', 'const_D', 'const_W']\n"
     ]
    }
   ],
   "source": [
    "SMALLSCALE = True\n",
    "\n",
    "if SMALLSCALE: \n",
    "    # only Bet365, a home-dummy and a constant term \n",
    "    cols = [f'{x}{o}' for x in ['B365_Pr', 'home_', 'const_'] for o in ['D','W']]\n",
    "    \n",
    "else: \n",
    "    # many variables, but not those that have too many missings\n",
    "    firms_drop = ['BS', 'GB', 'PS', 'SJ'] # these are missing in too many years \n",
    "    cols = [c for c in dat.columns if (c[-4:-1] == '_Pr') # probabilities of win lose draw \n",
    "                                    & (c[-1] != 'L') # lose will be the normalized outcome \n",
    "                                    & (c[:2] not in firms_drop) # do not include from these firms \n",
    "           ] \n",
    "    cols += ['home_D', 'home_W', 'const_D', 'const_W']\n",
    "\n",
    "print(f'Chosen columns: {cols}')"
   ]
  },
  {
   "cell_type": "markdown",
   "metadata": {},
   "source": [
    "Dropping observations (rows) with missing values for one or more variables. "
   ]
  },
  {
   "cell_type": "code",
   "execution_count": 6,
   "metadata": {},
   "outputs": [
    {
     "name": "stdout",
     "output_type": "stream",
     "text": [
      "Keeping only non-missings: 86.96% obs. (N = 45,184)\n"
     ]
    }
   ],
   "source": [
    "I = dat[cols].notnull().all(1)\n",
    "print(f'Keeping only non-missings: {I.mean():5.2%} obs. (N = {I.sum():,d})')\n",
    "dat = dat.loc[I, :].copy()"
   ]
  },
  {
   "cell_type": "markdown",
   "metadata": {},
   "source": [
    "## Pandas to numpy \n",
    "\n",
    "We want to write our objective function in `numpy`, so we have to extract our variables. "
   ]
  },
  {
   "cell_type": "code",
   "execution_count": 7,
   "metadata": {},
   "outputs": [
    {
     "data": {
      "text/plain": [
       "['B365_PrD', 'B365_PrW', 'home_D', 'home_W', 'const_D', 'const_W']"
      ]
     },
     "execution_count": 7,
     "metadata": {},
     "output_type": "execute_result"
    }
   ],
   "source": [
    "cols"
   ]
  },
  {
   "cell_type": "code",
   "execution_count": 8,
   "metadata": {},
   "outputs": [
    {
     "name": "stdout",
     "output_type": "stream",
     "text": [
      "Chosen columns: ['B365_PrD', 'B365_PrW', 'home_D', 'home_W', 'const_D', 'const_W']\n"
     ]
    }
   ],
   "source": [
    "J = 3 # 3 discrete choices: Lose, Draw, Win \n",
    "K = round(len(cols) / (J-1)) # J-1 since we only have covariates for the two \n",
    "N = dat.shape[0]\n",
    "\n",
    "print(f'Chosen columns: {cols}')\n",
    "\n",
    "y = dat['y'].values.reshape((N,))\n",
    "X = dat[cols].values.reshape((N,K,J-1))\n",
    "\n",
    "assert not np.any(np.isnan(X)), 'NaNs in X'\n",
    "assert not np.any(np.isnan(y)), 'NaNs in y'"
   ]
  },
  {
   "cell_type": "markdown",
   "metadata": {},
   "source": [
    "## Visualizing `X` and working with 3D arrays "
   ]
  },
  {
   "cell_type": "code",
   "execution_count": 9,
   "metadata": {},
   "outputs": [
    {
     "data": {
      "text/html": [
       "<div>\n",
       "<style scoped>\n",
       "    .dataframe tbody tr th:only-of-type {\n",
       "        vertical-align: middle;\n",
       "    }\n",
       "\n",
       "    .dataframe tbody tr th {\n",
       "        vertical-align: top;\n",
       "    }\n",
       "\n",
       "    .dataframe thead th {\n",
       "        text-align: right;\n",
       "    }\n",
       "</style>\n",
       "<table border=\"1\" class=\"dataframe\">\n",
       "  <thead>\n",
       "    <tr style=\"text-align: right;\">\n",
       "      <th></th>\n",
       "      <th>B365_PrD</th>\n",
       "      <th>B365_PrW</th>\n",
       "      <th>home_D</th>\n",
       "      <th>home_W</th>\n",
       "      <th>const_D</th>\n",
       "      <th>const_W</th>\n",
       "      <th>team</th>\n",
       "      <th>enemy_team</th>\n",
       "    </tr>\n",
       "  </thead>\n",
       "  <tbody>\n",
       "    <tr>\n",
       "      <th>0</th>\n",
       "      <td>0.274324</td>\n",
       "      <td>0.539135</td>\n",
       "      <td>1.0</td>\n",
       "      <td>1.0</td>\n",
       "      <td>1.0</td>\n",
       "      <td>1.0</td>\n",
       "      <td>KRC Genk</td>\n",
       "      <td>Beerschot AC</td>\n",
       "    </tr>\n",
       "    <tr>\n",
       "      <th>1</th>\n",
       "      <td>0.283293</td>\n",
       "      <td>0.464891</td>\n",
       "      <td>1.0</td>\n",
       "      <td>1.0</td>\n",
       "      <td>1.0</td>\n",
       "      <td>1.0</td>\n",
       "      <td>SV Zulte-Waregem</td>\n",
       "      <td>Sporting Lokeren</td>\n",
       "    </tr>\n",
       "    <tr>\n",
       "      <th>50526</th>\n",
       "      <td>0.094919</td>\n",
       "      <td>0.049957</td>\n",
       "      <td>0.0</td>\n",
       "      <td>0.0</td>\n",
       "      <td>1.0</td>\n",
       "      <td>1.0</td>\n",
       "      <td>SD Eibar</td>\n",
       "      <td>FC Barcelona</td>\n",
       "    </tr>\n",
       "  </tbody>\n",
       "</table>\n",
       "</div>"
      ],
      "text/plain": [
       "       B365_PrD  B365_PrW  home_D  home_W  const_D  const_W              team  \\\n",
       "0      0.274324  0.539135     1.0     1.0      1.0      1.0          KRC Genk   \n",
       "1      0.283293  0.464891     1.0     1.0      1.0      1.0  SV Zulte-Waregem   \n",
       "50526  0.094919  0.049957     0.0     0.0      1.0      1.0          SD Eibar   \n",
       "\n",
       "             enemy_team  \n",
       "0          Beerschot AC  \n",
       "1      Sporting Lokeren  \n",
       "50526      FC Barcelona  "
      ]
     },
     "execution_count": 9,
     "metadata": {},
     "output_type": "execute_result"
    }
   ],
   "source": [
    "ii = [0,1,-10] # let's look at these rows\n",
    "x = X[ii]\n",
    "\n",
    "# and print them nicely from pandas using \"iloc\"\n",
    "dat.iloc[ii][cols + ['team', 'enemy_team']]"
   ]
  },
  {
   "cell_type": "code",
   "execution_count": 10,
   "metadata": {},
   "outputs": [],
   "source": [
    "theta = 0.1 * np.ones((K,J-1))"
   ]
  },
  {
   "cell_type": "markdown",
   "metadata": {},
   "source": [
    "$\\theta$: one parameter for each $(k,j)$, but $\\theta_{jk}=0 $ for the normalized alternative, $j=0$. "
   ]
  },
  {
   "cell_type": "code",
   "execution_count": 11,
   "metadata": {},
   "outputs": [
    {
     "data": {
      "text/plain": [
       "array([[0.1, 0.1],\n",
       "       [0.1, 0.1],\n",
       "       [0.1, 0.1]])"
      ]
     },
     "execution_count": 11,
     "metadata": {},
     "output_type": "execute_result"
    }
   ],
   "source": [
    "theta"
   ]
  },
  {
   "cell_type": "code",
   "execution_count": 12,
   "metadata": {},
   "outputs": [
    {
     "data": {
      "text/html": [
       "<div>\n",
       "<style scoped>\n",
       "    .dataframe tbody tr th:only-of-type {\n",
       "        vertical-align: middle;\n",
       "    }\n",
       "\n",
       "    .dataframe tbody tr th {\n",
       "        vertical-align: top;\n",
       "    }\n",
       "\n",
       "    .dataframe thead th {\n",
       "        text-align: right;\n",
       "    }\n",
       "</style>\n",
       "<table border=\"1\" class=\"dataframe\">\n",
       "  <thead>\n",
       "    <tr style=\"text-align: right;\">\n",
       "      <th></th>\n",
       "      <th>Draw</th>\n",
       "      <th>Win</th>\n",
       "    </tr>\n",
       "  </thead>\n",
       "  <tbody>\n",
       "    <tr>\n",
       "      <th>0</th>\n",
       "      <td>B365_PrD</td>\n",
       "      <td>B365_PrW</td>\n",
       "    </tr>\n",
       "    <tr>\n",
       "      <th>1</th>\n",
       "      <td>home_D</td>\n",
       "      <td>home_W</td>\n",
       "    </tr>\n",
       "    <tr>\n",
       "      <th>2</th>\n",
       "      <td>const_D</td>\n",
       "      <td>const_W</td>\n",
       "    </tr>\n",
       "  </tbody>\n",
       "</table>\n",
       "</div>"
      ],
      "text/plain": [
       "       Draw       Win\n",
       "0  B365_PrD  B365_PrW\n",
       "1    home_D    home_W\n",
       "2   const_D   const_W"
      ]
     },
     "execution_count": 12,
     "metadata": {},
     "output_type": "execute_result"
    }
   ],
   "source": [
    "# labels? \n",
    "pd.DataFrame(np.reshape(cols, (K,J-1)), columns=['Draw', 'Win'])"
   ]
  },
  {
   "cell_type": "markdown",
   "metadata": {},
   "source": [
    "$x_{ijk}$: for a given $i$, $K\\times (J-1)$. "
   ]
  },
  {
   "cell_type": "code",
   "execution_count": 13,
   "metadata": {},
   "outputs": [
    {
     "data": {
      "text/plain": [
       "array([[0.09491876, 0.04995724],\n",
       "       [0.        , 0.        ],\n",
       "       [1.        , 1.        ]])"
      ]
     },
     "execution_count": 13,
     "metadata": {},
     "output_type": "execute_result"
    }
   ],
   "source": [
    "i = 2\n",
    "x[i] "
   ]
  },
  {
   "cell_type": "markdown",
   "metadata": {},
   "source": [
    "$x_{ijk} \\beta_{jk}$"
   ]
  },
  {
   "cell_type": "code",
   "execution_count": 14,
   "metadata": {},
   "outputs": [
    {
     "data": {
      "text/plain": [
       "array([[0.00949188, 0.00499572],\n",
       "       [0.        , 0.        ],\n",
       "       [0.1       , 0.1       ]])"
      ]
     },
     "execution_count": 14,
     "metadata": {},
     "output_type": "execute_result"
    }
   ],
   "source": [
    "xb = x[i] * theta\n",
    "xb"
   ]
  },
  {
   "cell_type": "markdown",
   "metadata": {},
   "source": [
    "$v_{ij} \\equiv \\sum_k x_{ijk} \\theta_{jk}$  (one for each $j=1,2$)"
   ]
  },
  {
   "cell_type": "code",
   "execution_count": 15,
   "metadata": {},
   "outputs": [
    {
     "data": {
      "text/plain": [
       "array([0.10949188, 0.10499572])"
      ]
     },
     "execution_count": 15,
     "metadata": {},
     "output_type": "execute_result"
    }
   ],
   "source": [
    "xbsum = xb.sum(axis=0)\n",
    "xbsum"
   ]
  },
  {
   "cell_type": "markdown",
   "metadata": {},
   "source": [
    "$v_{i0} := 0$ (normalization)"
   ]
  },
  {
   "cell_type": "code",
   "execution_count": 16,
   "metadata": {},
   "outputs": [
    {
     "data": {
      "text/plain": [
       "array([0.        , 0.10949188, 0.10499572])"
      ]
     },
     "execution_count": 16,
     "metadata": {},
     "output_type": "execute_result"
    }
   ],
   "source": [
    "u = np.hstack([0., xbsum])\n",
    "u"
   ]
  },
  {
   "cell_type": "code",
   "execution_count": 17,
   "metadata": {},
   "outputs": [
    {
     "data": {
      "text/plain": [
       "array([0.30994135, 0.34580498, 0.34425367])"
      ]
     },
     "execution_count": 17,
     "metadata": {},
     "output_type": "execute_result"
    }
   ],
   "source": [
    "denom = np.sum(np.exp(u))\n",
    "ccp = np.exp(u) / denom \n",
    "ccp"
   ]
  },
  {
   "cell_type": "markdown",
   "metadata": {},
   "source": [
    "### With three individuals"
   ]
  },
  {
   "cell_type": "code",
   "execution_count": 18,
   "metadata": {},
   "outputs": [
    {
     "data": {
      "text/plain": [
       "array([[0.1, 0.1],\n",
       "       [0.1, 0.1],\n",
       "       [0.1, 0.1]])"
      ]
     },
     "execution_count": 18,
     "metadata": {},
     "output_type": "execute_result"
    }
   ],
   "source": [
    "theta"
   ]
  },
  {
   "cell_type": "code",
   "execution_count": 19,
   "metadata": {},
   "outputs": [
    {
     "data": {
      "text/plain": [
       "array([[[0.02743245, 0.05391348],\n",
       "        [0.1       , 0.1       ],\n",
       "        [0.1       , 0.1       ]],\n",
       "\n",
       "       [[0.0283293 , 0.0464891 ],\n",
       "        [0.1       , 0.1       ],\n",
       "        [0.1       , 0.1       ]],\n",
       "\n",
       "       [[0.00949188, 0.00499572],\n",
       "        [0.        , 0.        ],\n",
       "        [0.1       , 0.1       ]]])"
      ]
     },
     "execution_count": 19,
     "metadata": {},
     "output_type": "execute_result"
    }
   ],
   "source": [
    "xb = x * theta\n",
    "xb"
   ]
  },
  {
   "cell_type": "markdown",
   "metadata": {},
   "source": [
    "### Scale up to the full dataset"
   ]
  },
  {
   "cell_type": "code",
   "execution_count": 20,
   "metadata": {},
   "outputs": [
    {
     "data": {
      "text/plain": [
       "(3, 2)"
      ]
     },
     "execution_count": 20,
     "metadata": {},
     "output_type": "execute_result"
    }
   ],
   "source": [
    "theta.shape"
   ]
  },
  {
   "cell_type": "code",
   "execution_count": 21,
   "metadata": {},
   "outputs": [
    {
     "data": {
      "text/plain": [
       "(45184, 3, 2)"
      ]
     },
     "execution_count": 21,
     "metadata": {},
     "output_type": "execute_result"
    }
   ],
   "source": [
    "X.shape"
   ]
  },
  {
   "cell_type": "code",
   "execution_count": 22,
   "metadata": {},
   "outputs": [
    {
     "data": {
      "text/plain": [
       "(45184, 2)"
      ]
     },
     "execution_count": 22,
     "metadata": {},
     "output_type": "execute_result"
    }
   ],
   "source": [
    "(X * theta).sum(axis=1).shape"
   ]
  },
  {
   "cell_type": "markdown",
   "metadata": {},
   "source": [
    "$X$ is $N \\times K \\times J-1$, so we sum over the middle-index $k$, `axis=1`. "
   ]
  },
  {
   "cell_type": "code",
   "execution_count": 23,
   "metadata": {},
   "outputs": [
    {
     "data": {
      "text/plain": [
       "array([[0.22743245, 0.25391348],\n",
       "       [0.2283293 , 0.2464891 ],\n",
       "       [0.22788191, 0.23865979],\n",
       "       ...,\n",
       "       [0.12389025, 0.11365157],\n",
       "       [0.12929936, 0.12929936],\n",
       "       [0.12771654, 0.12944882]])"
      ]
     },
     "execution_count": 23,
     "metadata": {},
     "output_type": "execute_result"
    }
   ],
   "source": [
    "xb = (X * theta).sum(axis=1) # sum over J-dimension\n",
    "xb"
   ]
  },
  {
   "cell_type": "code",
   "execution_count": 24,
   "metadata": {},
   "outputs": [
    {
     "data": {
      "text/plain": [
       "array([[0.        , 0.22743245, 0.25391348],\n",
       "       [0.        , 0.2283293 , 0.2464891 ],\n",
       "       [0.        , 0.22788191, 0.23865979],\n",
       "       ...,\n",
       "       [0.        , 0.12389025, 0.11365157],\n",
       "       [0.        , 0.12929936, 0.12929936],\n",
       "       [0.        , 0.12771654, 0.12944882]])"
      ]
     },
     "execution_count": 24,
     "metadata": {},
     "output_type": "execute_result"
    }
   ],
   "source": [
    "u = np.hstack([np.zeros((N,1)), xb])\n",
    "u "
   ]
  },
  {
   "cell_type": "markdown",
   "metadata": {},
   "source": [
    "To max rescale, compute maximum over rows, i.e. `axis=1`"
   ]
  },
  {
   "cell_type": "markdown",
   "metadata": {},
   "source": [
    "Choice probabilities "
   ]
  },
  {
   "cell_type": "code",
   "execution_count": 25,
   "metadata": {},
   "outputs": [],
   "source": [
    "denom = np.sum(np.exp(u), axis=1).reshape(N,1)"
   ]
  },
  {
   "cell_type": "code",
   "execution_count": 26,
   "metadata": {},
   "outputs": [
    {
     "data": {
      "text/plain": [
       "array([[0.28213258, 0.35418152, 0.3636859 ],\n",
       "       [0.28280349, 0.35534231, 0.3618542 ],\n",
       "       [0.28364903, 0.35624532, 0.36010565],\n",
       "       ...,\n",
       "       [0.30747912, 0.34803305, 0.34448783],\n",
       "       [0.30524457, 0.34737771, 0.34737771],\n",
       "       [0.3053965 , 0.34700094, 0.34760256]])"
      ]
     },
     "execution_count": 26,
     "metadata": {},
     "output_type": "execute_result"
    }
   ],
   "source": [
    "(np.exp(u) / denom)"
   ]
  },
  {
   "cell_type": "markdown",
   "metadata": {},
   "source": [
    "_____\n",
    "# Criterion function\n",
    "\n",
    "Our estimator is defined as \n",
    "$$ \\hat{\\theta} = \\arg\\min_\\theta \\frac{1}{N} \\sum_{i=1}^N q_i(\\theta),$$\n",
    "\n",
    "where the criterion function is \n",
    "$$ q_i(\\theta) \\equiv - \\log \\Pr(y_i \\vert x_i, \\theta),$$\n",
    "and choice probabilities are computed as \n",
    "$$ \\Pr(y_i \\vert x_i, \\theta) = \\frac{\\exp(v_{iy_i})}{\\sum_{j=1}^J \\exp(v_{ij})}, $$\n",
    "and utility indices are given by \n",
    "$$ v_{ij} \\equiv \\mathbf{x}_{ij} \\boldsymbol{\\beta}_j = \\sum_{k=1}^K \\beta_{jk} x_{ijk}.$$\n",
    "We make the *normalization* that $\\boldsymbol{\\beta}_1 := \\mathbf{0}_{K \\times 1}$. Thus, we need $J-1$ regressors (with $K$ variables each) and we are estimating $(J-1)K$ parameters. \n",
    "\n",
    "In reality, the choice probabilities are computed using a \"max-rescaling,\" \n",
    "$$ \\Pr(y_i \\vert x_i, \\theta) = \\frac{\\exp(v_{iy_i} - K_i)}{\\sum_{j=1}^J \\exp(v_{ij} - K_i)},\\quad \n",
    "K_i \\equiv \\max_{j \\in \\{1,...,J\\}} v_{ij}.$$"
   ]
  },
  {
   "cell_type": "code",
   "execution_count": 27,
   "metadata": {},
   "outputs": [],
   "source": [
    "def util(x, thet) -> np.ndarray: \n",
    "    '''util: Utility function. Explicitly implements the normalization \n",
    "             for the first alternative (i.e. u[:, 0] = 0).\n",
    "    Args. \n",
    "        x: (N,J-1,K)-matrix of explanatory variables\n",
    "        theta: (J-1,K)-matrix of coefficients \n",
    "        \n",
    "    Returns\n",
    "        u: (N,J)-matrix of utilities (max-rescaled)\n",
    "    '''\n",
    "    N,K,J_1 = x.shape\n",
    "    J = J_1 + 1 \n",
    "    assert thet.size == K*(J-1)\n",
    "    theta = thet.reshape((K, J-1)) # minimizer may flatten this \n",
    "        \n",
    "    xb = (x * theta).sum(axis=1) # (N,K,J-1) * (K,J-1), sum over k-axis -> (N,J-1)\n",
    "    oo = np.zeros((N,1)) # normalized alternative\n",
    "    \n",
    "    u = np.hstack([oo, xb]) # full N*J matrix of utilities \n",
    "    \n",
    "    u -= u.max(axis=1).reshape((N,1)) # max rescale\n",
    "    \n",
    "    return u "
   ]
  },
  {
   "cell_type": "code",
   "execution_count": 28,
   "metadata": {},
   "outputs": [],
   "source": [
    "def ccp(x, theta): \n",
    "    N,K,J_1 = x.shape\n",
    "    u = util(x, theta) # (N,J)\n",
    "    denom = np.sum(np.exp(u), axis=1).reshape((N,1)) # (N,1)\n",
    "    ccp = np.exp(u) / denom # (N,J) matrix\n",
    "    return ccp "
   ]
  },
  {
   "cell_type": "code",
   "execution_count": 29,
   "metadata": {},
   "outputs": [],
   "source": [
    "def loglike(y, x, theta): \n",
    "    N,K,J_1 = x.shape\n",
    "    J = J_1 + 1 \n",
    "    assert np.isin(y, np.arange(J)).all()\n",
    "    \n",
    "    u = util(x, theta)\n",
    "    denom = np.sum(np.exp(u), axis=1).reshape((N,1))\n",
    "    \n",
    "    u_i = np.take_along_axis(u, y.reshape((N,1)), axis=1)\n",
    "    \n",
    "    ll_i = u_i - np.log(denom)\n",
    "    return ll_i"
   ]
  },
  {
   "cell_type": "code",
   "execution_count": 30,
   "metadata": {},
   "outputs": [],
   "source": [
    "def Q(theta): \n",
    "    ll_i = loglike(y, X, theta) # reads y,x from global memory \n",
    "    return -np.mean(ll_i)"
   ]
  },
  {
   "cell_type": "code",
   "execution_count": 31,
   "metadata": {},
   "outputs": [],
   "source": [
    "theta0 = np.zeros((K,J-1))"
   ]
  },
  {
   "cell_type": "code",
   "execution_count": 32,
   "metadata": {},
   "outputs": [
    {
     "name": "stdout",
     "output_type": "stream",
     "text": [
      "Convergence success? True (after 42 iterations).\n"
     ]
    },
    {
     "data": {
      "text/html": [
       "<div>\n",
       "<style scoped>\n",
       "    .dataframe tbody tr th:only-of-type {\n",
       "        vertical-align: middle;\n",
       "    }\n",
       "\n",
       "    .dataframe tbody tr th {\n",
       "        vertical-align: top;\n",
       "    }\n",
       "\n",
       "    .dataframe thead th {\n",
       "        text-align: right;\n",
       "    }\n",
       "</style>\n",
       "<table border=\"1\" class=\"dataframe\">\n",
       "  <thead>\n",
       "    <tr style=\"text-align: right;\">\n",
       "      <th></th>\n",
       "      <th>beta</th>\n",
       "    </tr>\n",
       "  </thead>\n",
       "  <tbody>\n",
       "    <tr>\n",
       "      <th>B365_PrD</th>\n",
       "      <td>5.311748</td>\n",
       "    </tr>\n",
       "    <tr>\n",
       "      <th>B365_PrW</th>\n",
       "      <td>4.919429</td>\n",
       "    </tr>\n",
       "    <tr>\n",
       "      <th>home_D</th>\n",
       "      <td>0.416425</td>\n",
       "    </tr>\n",
       "    <tr>\n",
       "      <th>home_W</th>\n",
       "      <td>0.205177</td>\n",
       "    </tr>\n",
       "    <tr>\n",
       "      <th>const_D</th>\n",
       "      <td>-1.971006</td>\n",
       "    </tr>\n",
       "    <tr>\n",
       "      <th>const_W</th>\n",
       "      <td>-1.982278</td>\n",
       "    </tr>\n",
       "  </tbody>\n",
       "</table>\n",
       "</div>"
      ],
      "text/plain": [
       "              beta\n",
       "B365_PrD  5.311748\n",
       "B365_PrW  4.919429\n",
       "home_D    0.416425\n",
       "home_W    0.205177\n",
       "const_D  -1.971006\n",
       "const_W  -1.982278"
      ]
     },
     "execution_count": 32,
     "metadata": {},
     "output_type": "execute_result"
    }
   ],
   "source": [
    "res = minimize(Q, theta0)\n",
    "\n",
    "print(f'Convergence success? {res.success} (after {res.nit} iterations).')\n",
    "\n",
    "pd.DataFrame(res.x, index=cols, columns=['beta'])"
   ]
  },
  {
   "cell_type": "code",
   "execution_count": 33,
   "metadata": {},
   "outputs": [],
   "source": [
    "theta = res.x.reshape((K,J-1))"
   ]
  },
  {
   "cell_type": "code",
   "execution_count": 34,
   "metadata": {},
   "outputs": [
    {
     "data": {
      "text/html": [
       "<div>\n",
       "<style scoped>\n",
       "    .dataframe tbody tr th:only-of-type {\n",
       "        vertical-align: middle;\n",
       "    }\n",
       "\n",
       "    .dataframe tbody tr th {\n",
       "        vertical-align: top;\n",
       "    }\n",
       "\n",
       "    .dataframe thead th {\n",
       "        text-align: right;\n",
       "    }\n",
       "</style>\n",
       "<table border=\"1\" class=\"dataframe\">\n",
       "  <thead>\n",
       "    <tr style=\"text-align: right;\">\n",
       "      <th></th>\n",
       "      <th>Draw</th>\n",
       "      <th>Win</th>\n",
       "    </tr>\n",
       "  </thead>\n",
       "  <tbody>\n",
       "    <tr>\n",
       "      <th>0</th>\n",
       "      <td>5.311748</td>\n",
       "      <td>4.919429</td>\n",
       "    </tr>\n",
       "    <tr>\n",
       "      <th>1</th>\n",
       "      <td>0.416425</td>\n",
       "      <td>0.205177</td>\n",
       "    </tr>\n",
       "    <tr>\n",
       "      <th>2</th>\n",
       "      <td>-1.971006</td>\n",
       "      <td>-1.982278</td>\n",
       "    </tr>\n",
       "  </tbody>\n",
       "</table>\n",
       "</div>"
      ],
      "text/plain": [
       "       Draw       Win\n",
       "0  5.311748  4.919429\n",
       "1  0.416425  0.205177\n",
       "2 -1.971006 -1.982278"
      ]
     },
     "execution_count": 34,
     "metadata": {},
     "output_type": "execute_result"
    }
   ],
   "source": [
    "pd.DataFrame(theta, columns=['Draw', 'Win'])"
   ]
  },
  {
   "cell_type": "markdown",
   "metadata": {},
   "source": [
    "## Inspect fit for individual rows \n",
    "\n",
    "This will print out the real outcomes, `y`, as well as the predicted probabilities of each outcome, where `0` denotes `L`, `1` denotes `D`, and `2` denotes `W` (Loss, Draw, Win, respectively). "
   ]
  },
  {
   "cell_type": "code",
   "execution_count": 35,
   "metadata": {},
   "outputs": [
    {
     "data": {
      "text/html": [
       "<div>\n",
       "<style scoped>\n",
       "    .dataframe tbody tr th:only-of-type {\n",
       "        vertical-align: middle;\n",
       "    }\n",
       "\n",
       "    .dataframe tbody tr th {\n",
       "        vertical-align: top;\n",
       "    }\n",
       "\n",
       "    .dataframe thead th {\n",
       "        text-align: right;\n",
       "    }\n",
       "</style>\n",
       "<table border=\"1\" class=\"dataframe\">\n",
       "  <thead>\n",
       "    <tr style=\"text-align: right;\">\n",
       "      <th></th>\n",
       "      <th>y</th>\n",
       "      <th>Pr(0)</th>\n",
       "      <th>Pr(1)</th>\n",
       "      <th>Pr(2)</th>\n",
       "      <th>team</th>\n",
       "      <th>home</th>\n",
       "      <th>B365 P(0)</th>\n",
       "      <th>B365 P(1)</th>\n",
       "      <th>B365 P(2)</th>\n",
       "    </tr>\n",
       "  </thead>\n",
       "  <tbody>\n",
       "    <tr>\n",
       "      <th>41465</th>\n",
       "      <td>0</td>\n",
       "      <td>0.47747</td>\n",
       "      <td>0.301025</td>\n",
       "      <td>0.221505</td>\n",
       "      <td>Heart of Midlothian</td>\n",
       "      <td>False</td>\n",
       "      <td>0.46896</td>\n",
       "      <td>0.284218</td>\n",
       "      <td>0.246821</td>\n",
       "    </tr>\n",
       "    <tr>\n",
       "      <th>39174</th>\n",
       "      <td>2</td>\n",
       "      <td>0.155398</td>\n",
       "      <td>0.059063</td>\n",
       "      <td>0.785539</td>\n",
       "      <td>FC Porto</td>\n",
       "      <td>False</td>\n",
       "      <td>0.078726</td>\n",
       "      <td>0.188942</td>\n",
       "      <td>0.732332</td>\n",
       "    </tr>\n",
       "    <tr>\n",
       "      <th>24287</th>\n",
       "      <td>1</td>\n",
       "      <td>0.329398</td>\n",
       "      <td>0.189844</td>\n",
       "      <td>0.480758</td>\n",
       "      <td>RSC Anderlecht</td>\n",
       "      <td>False</td>\n",
       "      <td>0.252871</td>\n",
       "      <td>0.267321</td>\n",
       "      <td>0.479807</td>\n",
       "    </tr>\n",
       "    <tr>\n",
       "      <th>39894</th>\n",
       "      <td>0</td>\n",
       "      <td>0.689306</td>\n",
       "      <td>0.18623</td>\n",
       "      <td>0.124464</td>\n",
       "      <td>Académica de Coimbra</td>\n",
       "      <td>False</td>\n",
       "      <td>0.820305</td>\n",
       "      <td>0.124686</td>\n",
       "      <td>0.055009</td>\n",
       "    </tr>\n",
       "    <tr>\n",
       "      <th>40457</th>\n",
       "      <td>1</td>\n",
       "      <td>0.27966</td>\n",
       "      <td>0.16227</td>\n",
       "      <td>0.55807</td>\n",
       "      <td>Rangers</td>\n",
       "      <td>False</td>\n",
       "      <td>0.188014</td>\n",
       "      <td>0.268592</td>\n",
       "      <td>0.543394</td>\n",
       "    </tr>\n",
       "    <tr>\n",
       "      <th>38325</th>\n",
       "      <td>1</td>\n",
       "      <td>0.47747</td>\n",
       "      <td>0.301025</td>\n",
       "      <td>0.221505</td>\n",
       "      <td>Leixões SC</td>\n",
       "      <td>False</td>\n",
       "      <td>0.46896</td>\n",
       "      <td>0.284218</td>\n",
       "      <td>0.246821</td>\n",
       "    </tr>\n",
       "    <tr>\n",
       "      <th>13250</th>\n",
       "      <td>2</td>\n",
       "      <td>0.388303</td>\n",
       "      <td>0.355998</td>\n",
       "      <td>0.255699</td>\n",
       "      <td>N.E.C.</td>\n",
       "      <td>True</td>\n",
       "      <td>0.447368</td>\n",
       "      <td>0.276316</td>\n",
       "      <td>0.276316</td>\n",
       "    </tr>\n",
       "    <tr>\n",
       "      <th>26646</th>\n",
       "      <td>1</td>\n",
       "      <td>0.561428</td>\n",
       "      <td>0.267101</td>\n",
       "      <td>0.171471</td>\n",
       "      <td>Crystal Palace</td>\n",
       "      <td>False</td>\n",
       "      <td>0.606936</td>\n",
       "      <td>0.231214</td>\n",
       "      <td>0.16185</td>\n",
       "    </tr>\n",
       "    <tr>\n",
       "      <th>28249</th>\n",
       "      <td>0</td>\n",
       "      <td>0.44389</td>\n",
       "      <td>0.326832</td>\n",
       "      <td>0.229278</td>\n",
       "      <td>AJ Auxerre</td>\n",
       "      <td>False</td>\n",
       "      <td>0.41791</td>\n",
       "      <td>0.313433</td>\n",
       "      <td>0.268657</td>\n",
       "    </tr>\n",
       "    <tr>\n",
       "      <th>30566</th>\n",
       "      <td>0</td>\n",
       "      <td>0.612603</td>\n",
       "      <td>0.245854</td>\n",
       "      <td>0.141542</td>\n",
       "      <td>Eintracht Frankfurt</td>\n",
       "      <td>False</td>\n",
       "      <td>0.695688</td>\n",
       "      <td>0.199186</td>\n",
       "      <td>0.105126</td>\n",
       "    </tr>\n",
       "  </tbody>\n",
       "</table>\n",
       "</div>"
      ],
      "text/plain": [
       "       y     Pr(0)     Pr(1)     Pr(2)                  team   home B365 P(0)  \\\n",
       "41465  0   0.47747  0.301025  0.221505   Heart of Midlothian  False   0.46896   \n",
       "39174  2  0.155398  0.059063  0.785539              FC Porto  False  0.078726   \n",
       "24287  1  0.329398  0.189844  0.480758        RSC Anderlecht  False  0.252871   \n",
       "39894  0  0.689306   0.18623  0.124464  Académica de Coimbra  False  0.820305   \n",
       "40457  1   0.27966   0.16227   0.55807               Rangers  False  0.188014   \n",
       "38325  1   0.47747  0.301025  0.221505            Leixões SC  False   0.46896   \n",
       "13250  2  0.388303  0.355998  0.255699                N.E.C.   True  0.447368   \n",
       "26646  1  0.561428  0.267101  0.171471        Crystal Palace  False  0.606936   \n",
       "28249  0   0.44389  0.326832  0.229278            AJ Auxerre  False   0.41791   \n",
       "30566  0  0.612603  0.245854  0.141542   Eintracht Frankfurt  False  0.695688   \n",
       "\n",
       "      B365 P(1) B365 P(2)  \n",
       "41465  0.284218  0.246821  \n",
       "39174  0.188942  0.732332  \n",
       "24287  0.267321  0.479807  \n",
       "39894  0.124686  0.055009  \n",
       "40457  0.268592  0.543394  \n",
       "38325  0.284218  0.246821  \n",
       "13250  0.276316  0.276316  \n",
       "26646  0.231214   0.16185  \n",
       "28249  0.313433  0.268657  \n",
       "30566  0.199186  0.105126  "
      ]
     },
     "execution_count": 35,
     "metadata": {},
     "output_type": "execute_result"
    }
   ],
   "source": [
    "probs = ccp(X, res.x)\n",
    "prob_i = np.take_along_axis(probs, y.reshape(N,1), axis=1)\n",
    "\n",
    "# y is the actual outcome of the game, \n",
    "# the other three columns are our predicted probabilities \n",
    "tab = pd.DataFrame(np.hstack([y.reshape(-1,1), probs, \n",
    "                              dat[['team', 'home', 'B365_PrL', 'B365_PrD', 'B365_PrW']].values.reshape(-1,5) ]\n",
    "                            ), \n",
    "                   columns=  ['y', 'Pr(0)', 'Pr(1)', 'Pr(2)', 'team', 'home', 'B365 P(0)', 'B365 P(1)', 'B365 P(2)']) \n",
    "tab.sample(10, random_state=1337).round(3)"
   ]
  },
  {
   "cell_type": "code",
   "execution_count": 36,
   "metadata": {},
   "outputs": [],
   "source": [
    "pr_i = np.take_along_axis(probs, y.reshape(-1,1), 1).flatten()\n",
    "\n",
    "probs_B365 = dat[['B365_PrL', 'B365_PrD', 'B365_PrW']].values\n",
    "pr_i_B365 = np.take_along_axis(probs_B365, y.reshape(-1,1), 1).flatten()"
   ]
  },
  {
   "cell_type": "markdown",
   "metadata": {},
   "source": [
    "Evaluate the probability of the observed outcome from our model vs. B365. "
   ]
  },
  {
   "cell_type": "code",
   "execution_count": 37,
   "metadata": {},
   "outputs": [
    {
     "data": {
      "text/html": [
       "<div>\n",
       "<style scoped>\n",
       "    .dataframe tbody tr th:only-of-type {\n",
       "        vertical-align: middle;\n",
       "    }\n",
       "\n",
       "    .dataframe tbody tr th {\n",
       "        vertical-align: top;\n",
       "    }\n",
       "\n",
       "    .dataframe thead th {\n",
       "        text-align: right;\n",
       "    }\n",
       "</style>\n",
       "<table border=\"1\" class=\"dataframe\">\n",
       "  <thead>\n",
       "    <tr style=\"text-align: right;\">\n",
       "      <th></th>\n",
       "      <th>Us</th>\n",
       "      <th>B365</th>\n",
       "    </tr>\n",
       "  </thead>\n",
       "  <tbody>\n",
       "    <tr>\n",
       "      <th>0</th>\n",
       "      <td>0.210656</td>\n",
       "      <td>0.274324</td>\n",
       "    </tr>\n",
       "    <tr>\n",
       "      <th>1</th>\n",
       "      <td>0.263075</td>\n",
       "      <td>0.283293</td>\n",
       "    </tr>\n",
       "    <tr>\n",
       "      <th>2</th>\n",
       "      <td>0.326591</td>\n",
       "      <td>0.334583</td>\n",
       "    </tr>\n",
       "    <tr>\n",
       "      <th>3</th>\n",
       "      <td>0.684157</td>\n",
       "      <td>0.634518</td>\n",
       "    </tr>\n",
       "    <tr>\n",
       "      <th>4</th>\n",
       "      <td>0.441543</td>\n",
       "      <td>0.555115</td>\n",
       "    </tr>\n",
       "    <tr>\n",
       "      <th>...</th>\n",
       "      <td>...</td>\n",
       "      <td>...</td>\n",
       "    </tr>\n",
       "    <tr>\n",
       "      <th>45179</th>\n",
       "      <td>0.553319</td>\n",
       "      <td>0.604340</td>\n",
       "    </tr>\n",
       "    <tr>\n",
       "      <th>45180</th>\n",
       "      <td>0.451761</td>\n",
       "      <td>0.424796</td>\n",
       "    </tr>\n",
       "    <tr>\n",
       "      <th>45181</th>\n",
       "      <td>0.566503</td>\n",
       "      <td>0.624582</td>\n",
       "    </tr>\n",
       "    <tr>\n",
       "      <th>45182</th>\n",
       "      <td>0.294522</td>\n",
       "      <td>0.292994</td>\n",
       "    </tr>\n",
       "    <tr>\n",
       "      <th>45183</th>\n",
       "      <td>0.455833</td>\n",
       "      <td>0.428346</td>\n",
       "    </tr>\n",
       "  </tbody>\n",
       "</table>\n",
       "<p>45184 rows × 2 columns</p>\n",
       "</div>"
      ],
      "text/plain": [
       "             Us      B365\n",
       "0      0.210656  0.274324\n",
       "1      0.263075  0.283293\n",
       "2      0.326591  0.334583\n",
       "3      0.684157  0.634518\n",
       "4      0.441543  0.555115\n",
       "...         ...       ...\n",
       "45179  0.553319  0.604340\n",
       "45180  0.451761  0.424796\n",
       "45181  0.566503  0.624582\n",
       "45182  0.294522  0.292994\n",
       "45183  0.455833  0.428346\n",
       "\n",
       "[45184 rows x 2 columns]"
      ]
     },
     "execution_count": 37,
     "metadata": {},
     "output_type": "execute_result"
    }
   ],
   "source": [
    "tab = pd.DataFrame({'Us':pr_i, 'B365':pr_i_B365})\n",
    "tab"
   ]
  },
  {
   "cell_type": "code",
   "execution_count": 38,
   "metadata": {},
   "outputs": [
    {
     "data": {
      "text/plain": [
       "Us      0.410486\n",
       "B365    0.416424\n",
       "dtype: float64"
      ]
     },
     "execution_count": 38,
     "metadata": {},
     "output_type": "execute_result"
    }
   ],
   "source": [
    "tab.mean()"
   ]
  },
  {
   "cell_type": "code",
   "execution_count": 39,
   "metadata": {},
   "outputs": [
    {
     "name": "stdout",
     "output_type": "stream",
     "text": [
      "On avg. our model as a diff. of -0.59%-points\n",
      "Our model has a higher predicted probability of the observed outcome for 49.00% of matches\n",
      "*sigh* the model is not doing better than B365...\n"
     ]
    }
   ],
   "source": [
    "avg_prob_point_diff = (tab['Us'] - tab['B365']).mean()\n",
    "avg_times_closer = (tab['Us'] > tab['B365']).mean()\n",
    "\n",
    "print(f'On avg. our model as a diff. of {avg_prob_point_diff:5.2%}-points')\n",
    "print(f'Our model has a higher predicted probability of the observed outcome for {avg_times_closer:5.2%} of matches')\n",
    "if avg_prob_point_diff<0.0: \n",
    "    print(f'*sigh* the model is not doing better than B365...')\n",
    "else: \n",
    "    print(f'Wahoo, we''ve beat the market!')"
   ]
  },
  {
   "cell_type": "markdown",
   "metadata": {},
   "source": [
    "How is it possible that our model performs *worse*? Well, it's maximizing the avg. *log* probability: "
   ]
  },
  {
   "cell_type": "code",
   "execution_count": 40,
   "metadata": {},
   "outputs": [
    {
     "data": {
      "text/html": [
       "<div>\n",
       "<style scoped>\n",
       "    .dataframe tbody tr th:only-of-type {\n",
       "        vertical-align: middle;\n",
       "    }\n",
       "\n",
       "    .dataframe tbody tr th {\n",
       "        vertical-align: top;\n",
       "    }\n",
       "\n",
       "    .dataframe thead th {\n",
       "        text-align: right;\n",
       "    }\n",
       "</style>\n",
       "<table border=\"1\" class=\"dataframe\">\n",
       "  <thead>\n",
       "    <tr style=\"text-align: right;\">\n",
       "      <th></th>\n",
       "      <th>Avg. Probability</th>\n",
       "    </tr>\n",
       "  </thead>\n",
       "  <tbody>\n",
       "    <tr>\n",
       "      <th>Us</th>\n",
       "      <td>0.410486</td>\n",
       "    </tr>\n",
       "    <tr>\n",
       "      <th>B365</th>\n",
       "      <td>0.416424</td>\n",
       "    </tr>\n",
       "  </tbody>\n",
       "</table>\n",
       "</div>"
      ],
      "text/plain": [
       "      Avg. Probability\n",
       "Us            0.410486\n",
       "B365          0.416424"
      ]
     },
     "execution_count": 40,
     "metadata": {},
     "output_type": "execute_result"
    }
   ],
   "source": [
    "tab.mean().to_frame('Avg. Probability')"
   ]
  },
  {
   "cell_type": "code",
   "execution_count": 41,
   "metadata": {},
   "outputs": [
    {
     "data": {
      "text/html": [
       "<div>\n",
       "<style scoped>\n",
       "    .dataframe tbody tr th:only-of-type {\n",
       "        vertical-align: middle;\n",
       "    }\n",
       "\n",
       "    .dataframe tbody tr th {\n",
       "        vertical-align: top;\n",
       "    }\n",
       "\n",
       "    .dataframe thead th {\n",
       "        text-align: right;\n",
       "    }\n",
       "</style>\n",
       "<table border=\"1\" class=\"dataframe\">\n",
       "  <thead>\n",
       "    <tr style=\"text-align: right;\">\n",
       "      <th></th>\n",
       "      <th>Avg. log Pr</th>\n",
       "    </tr>\n",
       "  </thead>\n",
       "  <tbody>\n",
       "    <tr>\n",
       "      <th>Us</th>\n",
       "      <td>-0.990071</td>\n",
       "    </tr>\n",
       "    <tr>\n",
       "      <th>B365</th>\n",
       "      <td>-0.971868</td>\n",
       "    </tr>\n",
       "  </tbody>\n",
       "</table>\n",
       "</div>"
      ],
      "text/plain": [
       "      Avg. log Pr\n",
       "Us      -0.990071\n",
       "B365    -0.971868"
      ]
     },
     "execution_count": 41,
     "metadata": {},
     "output_type": "execute_result"
    }
   ],
   "source": [
    "np.log(tab).mean().to_frame('Avg. log Pr')"
   ]
  }
 ],
 "metadata": {
  "kernelspec": {
   "display_name": "Python 3",
   "language": "python",
   "name": "python3"
  },
  "language_info": {
   "codemirror_mode": {
    "name": "ipython",
    "version": 3
   },
   "file_extension": ".py",
   "mimetype": "text/x-python",
   "name": "python",
   "nbconvert_exporter": "python",
   "pygments_lexer": "ipython3",
   "version": "3.9.4"
  }
 },
 "nbformat": 4,
 "nbformat_minor": 4
}
