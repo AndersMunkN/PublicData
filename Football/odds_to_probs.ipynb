{
 "cells": [
  {
   "cell_type": "markdown",
   "metadata": {},
   "source": [
    "# Odds to Probabilities\n",
    "\n",
    "* **Data Source:** [https://www.kaggle.com/hugomathien/soccer](https://www.kaggle.com/hugomathien/soccer)\n",
    "* **Author:** Anders Munk-Nielsen\n",
    "\n",
    "This notebook illustrates how to convert from betting odds to implies probabilities. Essentially, it performs one of the crucial steps done in `materialize.py`. "
   ]
  },
  {
   "cell_type": "code",
   "execution_count": 1,
   "metadata": {},
   "outputs": [],
   "source": [
    "import pandas as pd \n",
    "import numpy as np \n",
    "\n",
    "import seaborn as sns \n",
    "sns.set_theme()\n",
    "import matplotlib.pyplot as plt "
   ]
  },
  {
   "cell_type": "code",
   "execution_count": 2,
   "metadata": {},
   "outputs": [],
   "source": [
    "dat = pd.read_csv('football.csv')"
   ]
  },
  {
   "cell_type": "markdown",
   "metadata": {},
   "source": [
    "The dataframe, `dat`, contains the raw odds for each match. E.g., Bet365 gave odds 5.0 for KRC Genk playing on their home stadium on 2008-08-17 - i.e. if we bet 100 DKK on that match, we would get 500 DKK back if KRC Genk won. "
   ]
  },
  {
   "cell_type": "code",
   "execution_count": 3,
   "metadata": {},
   "outputs": [
    {
     "data": {
      "text/html": [
       "<div>\n",
       "<style scoped>\n",
       "    .dataframe tbody tr th:only-of-type {\n",
       "        vertical-align: middle;\n",
       "    }\n",
       "\n",
       "    .dataframe tbody tr th {\n",
       "        vertical-align: top;\n",
       "    }\n",
       "\n",
       "    .dataframe thead th {\n",
       "        text-align: right;\n",
       "    }\n",
       "</style>\n",
       "<table border=\"1\" class=\"dataframe\">\n",
       "  <thead>\n",
       "    <tr style=\"text-align: right;\">\n",
       "      <th></th>\n",
       "      <th>team</th>\n",
       "      <th>date</th>\n",
       "      <th>home</th>\n",
       "      <th>B365A</th>\n",
       "      <th>B365D</th>\n",
       "      <th>B365H</th>\n",
       "    </tr>\n",
       "  </thead>\n",
       "  <tbody>\n",
       "    <tr>\n",
       "      <th>0</th>\n",
       "      <td>KRC Genk</td>\n",
       "      <td>2008-08-17</td>\n",
       "      <td>True</td>\n",
       "      <td>5.0</td>\n",
       "      <td>3.4</td>\n",
       "      <td>1.73</td>\n",
       "    </tr>\n",
       "  </tbody>\n",
       "</table>\n",
       "</div>"
      ],
      "text/plain": [
       "       team        date  home  B365A  B365D  B365H\n",
       "0  KRC Genk  2008-08-17  True    5.0    3.4   1.73"
      ]
     },
     "execution_count": 3,
     "metadata": {},
     "output_type": "execute_result"
    }
   ],
   "source": [
    "cols = ['team', 'date', 'home'] + [f'B365{y}' for y in ['A','D','H']]\n",
    "dat[cols].query('(date == \"2008-08-17\") & (team == \"KRC Genk\")')"
   ]
  },
  {
   "cell_type": "markdown",
   "metadata": {},
   "source": [
    "Our main goal is compute implied probabilities based on these odds. "
   ]
  },
  {
   "cell_type": "markdown",
   "metadata": {},
   "source": [
    "## Theory\n",
    "\n",
    "**Short version:** Below, I explain why we can use the following formula to compute the bookmaker's probability estimate from odds: \n",
    "$$ \\widehat{\\Pr{A}} = \\frac{\\frac{1}{O_A}}{\\frac{1}{O_A} + \\frac{1}{O_B} + \\frac{1}{O_C}}, $$\n",
    "where $O_j \\ge 1$ is the odds for outcome $j \\in \\{ A,D,H \\}$. \n",
    "\n",
    "**Long version:** When a bookie sets odds, it may take the form \n",
    "\n",
    "|Outcome| A | D | H | \n",
    "|-------|---|---|---|\n",
    "|Odds   |1.75|3.35|4.20|\n",
    "\n",
    "(the odds for \"KRK Genk\" winning on 2008-08-17 from the bookmaker \"BW\".) This means that if we bet 100 DKK on \"A\" (Away team winning), we get 175 DKK back. Thus, we are indifferent when \n",
    "$$ \\Pr(A) = \\frac{1}{1.75} = 57.1 \\% . $$\n",
    "In general, we compute probabilities by taking the reciprocal values of the odds. The corresponding probabilities above are \n",
    "\n",
    "|Outcome| A | D | H | Sum |\n",
    "|-------|---|---|---|-----|\n",
    "|1/odds |57.1%|29.9%|23.8%|110.8%| \n",
    "\n",
    "We note that the probabilities sum to *more* than 100%. The extra, 10.8%, is the bookmaker's \"over-round\", determining the profit the bookmaker is going to get. For every 100 DKK the bookmaker accepts, she expects to make 10.8 DKK, i.e. a margin of 10.8%. \n",
    "\n",
    "Let's suppose that we want to undo this *over-round*, and reverse-engineer what the bookmaker actually believes the probabilities to be. Then we are forced to make an assumption on how the 10.8% extra is distributed. The simplest assumption is that the bookmaker comes up with estimated probabilities and computes odds from those and then scales *down* each of the odds by 10.8%. Then we can compute the original probabilities like so: \n",
    "$$ \\widehat{\\Pr}(A) = \\frac{57.1\\%}{110.8\\%} = 51.5\\%. $$\n",
    "That is, we simply divide each of our \"raw probabilities\" (the reciprocal of the odds) by the sum of probabilities. This will also ensure that our vector of probabilities sums to 100%. The final answer is thus: \n",
    "\n",
    "|Outcome           | A | D | H | Sum |\n",
    "|------------------|---|---|---|-----|\n",
    "|Probability |51.5%|27.0%|21.5%|100.0%| \n",
    "\n",
    "**Bonus questions:** A separate (but interesting) question is what determines the size of the overround (i.e. the \"price\"). Is the overround larger or smaller depending on the size of the fanbase for the team (i.e. the size of the market)? Depending on the degree of fan \"loyalty\"? And what if the match outcome can be predicted with greater or smaller certainty? And would the bookmaker ever be interested in \"skewing\" the odds away from the objective probability estimates if, say, one team's fans were more \"loyal\" than another? "
   ]
  },
  {
   "cell_type": "code",
   "execution_count": 4,
   "metadata": {},
   "outputs": [
    {
     "data": {
      "text/plain": [
       "['season',\n",
       " 'stage',\n",
       " 'date',\n",
       " 'match_api_id',\n",
       " 'team_api_id',\n",
       " 'goal',\n",
       " 'enemy_team_api_id',\n",
       " 'enemy_goal',\n",
       " 'home',\n",
       " 'goal_diff',\n",
       " 'league',\n",
       " 'country',\n",
       " 'team',\n",
       " 'enemy_team']"
      ]
     },
     "execution_count": 4,
     "metadata": {},
     "output_type": "execute_result"
    }
   ],
   "source": [
    "# List of the names of all firms that we have betting prices for\n",
    "betting_firms = np.unique([c[:-1] for c in dat.columns if c[-1] in ['A', 'H', 'D']])\n",
    "betting_firms\n",
    "\n",
    "# Creating a dictionary that will return all the three price variables for each firm \n",
    "def f_cols(c: str) -> list: \n",
    "    # find all columns in dat that start with the prefix, \"c\" for the first len(c) characters\n",
    "    # returns the list \n",
    "    n = len(c)\n",
    "    return [col for col in dat.columns if col[:n] == c]\n",
    "\n",
    "# dict: firm_vars['B365'] will return ['B365A', 'B365H', 'B365D']\n",
    "firm_vars = {c : f_cols(c) for c in betting_firms}\n",
    "\n",
    "# find all columns in our dataframe that are *not* betting variables \n",
    "cols_common = [c for c in dat.columns if c[-1] not in ['A', 'H', 'D']]\n",
    "cols_common"
   ]
  },
  {
   "cell_type": "code",
   "execution_count": 5,
   "metadata": {},
   "outputs": [],
   "source": [
    "# prepare output \n",
    "d = dat[cols_common].copy()\n",
    "\n",
    "for b in betting_firms: \n",
    "    inv_odds = 1.0 / dat[firm_vars[b]]\n",
    "    d[b + '_overround'] = inv_odds.sum(axis=1, skipna=False)\n",
    "\n",
    "    \n",
    "    # draw probability (regardless of whether home/away match)\n",
    "    d[b + '_PrD'] = inv_odds[b + 'D'] / d[b + '_overround']\n",
    "    \n",
    "    d[b + '_PrW'] = np.nan\n",
    "    d[b + '_PrL'] = np.nan\n",
    "    \n",
    "    # home team win/lose probabilities \n",
    "    d.loc[d.home, b + '_PrW'] = inv_odds.loc[d.home, b + 'H'] / d.loc[d.home, b + '_overround']\n",
    "    d.loc[d.home, b + '_PrL'] = inv_odds.loc[d.home, b + 'A'] / d.loc[d.home, b + '_overround']\n",
    "    \n",
    "    # away team win/lose probabilities \n",
    "    d.loc[d.home==False, b + '_PrW'] = inv_odds.loc[d.home==False, b + 'A'] / d.loc[d.home==False, b + '_overround']\n",
    "    d.loc[d.home==False, b + '_PrL'] = inv_odds.loc[d.home==False, b + 'H'] / d.loc[d.home==False, b + '_overround']"
   ]
  },
  {
   "cell_type": "markdown",
   "metadata": {},
   "source": [
    "## Investigate\n",
    "\n",
    "Print a simple table showing the mean predicted probabilities, conditional on the actual outcome of the game. "
   ]
  },
  {
   "cell_type": "code",
   "execution_count": 6,
   "metadata": {},
   "outputs": [],
   "source": [
    "def f_outcome(data): \n",
    "    '''f_outcome: add two outcome variables to the dataframe: \n",
    "        data.win: 1(goal_diff > 0.0)\n",
    "        data.outcome: taking values 'L', 'D', 'W'\n",
    "    '''\n",
    "    data['outcome'] = 'L'\n",
    "    data.loc[data.goal_diff == 0.0, 'outcome'] = 'D'\n",
    "    data.loc[data.goal_diff >  0.0, 'outcome'] = 'W'\n",
    "    \n",
    "    data['win'] = (data.goal_diff > 0.0).astype(float)"
   ]
  },
  {
   "cell_type": "code",
   "execution_count": 7,
   "metadata": {},
   "outputs": [
    {
     "data": {
      "text/html": [
       "<div>\n",
       "<style scoped>\n",
       "    .dataframe tbody tr th:only-of-type {\n",
       "        vertical-align: middle;\n",
       "    }\n",
       "\n",
       "    .dataframe tbody tr th {\n",
       "        vertical-align: top;\n",
       "    }\n",
       "\n",
       "    .dataframe thead th {\n",
       "        text-align: right;\n",
       "    }\n",
       "</style>\n",
       "<table border=\"1\" class=\"dataframe\">\n",
       "  <thead>\n",
       "    <tr style=\"text-align: right;\">\n",
       "      <th></th>\n",
       "      <th>Bet 365 Pr(win)</th>\n",
       "    </tr>\n",
       "    <tr>\n",
       "      <th>outcome</th>\n",
       "      <th></th>\n",
       "    </tr>\n",
       "  </thead>\n",
       "  <tbody>\n",
       "    <tr>\n",
       "      <th>L</th>\n",
       "      <td>0.355</td>\n",
       "    </tr>\n",
       "    <tr>\n",
       "      <th>D</th>\n",
       "      <td>0.432</td>\n",
       "    </tr>\n",
       "    <tr>\n",
       "      <th>W</th>\n",
       "      <td>0.521</td>\n",
       "    </tr>\n",
       "  </tbody>\n",
       "</table>\n",
       "</div>"
      ],
      "text/plain": [
       "         Bet 365 Pr(win)\n",
       "outcome                 \n",
       "L                  0.355\n",
       "D                  0.432\n",
       "W                  0.521"
      ]
     },
     "execution_count": 7,
     "metadata": {},
     "output_type": "execute_result"
    }
   ],
   "source": [
    "f_outcome(d)\n",
    "tab = d[d.home].groupby('outcome')['B365_PrW'].mean().to_frame('Bet 365 Pr(win)')\n",
    "tab.loc[['L', 'D', 'W']].round(3)"
   ]
  },
  {
   "cell_type": "markdown",
   "metadata": {},
   "source": [
    "But there is considerable dispersion in the probabilities. "
   ]
  },
  {
   "cell_type": "code",
   "execution_count": 8,
   "metadata": {},
   "outputs": [
    {
     "data": {
      "image/png": "[encoded data removed]",
      "text/plain": [
       "<Figure size 432x288 with 1 Axes>"
      ]
     },
     "metadata": {},
     "output_type": "display_data"
    }
   ],
   "source": [
    "sns.histplot(data=d, x='B365_PrW', hue='outcome'); \n",
    "plt.xlabel('Bet365 Pr(win)'); \n",
    "plt.ylabel('Observations (team-match pairs)'); "
   ]
  },
  {
   "cell_type": "code",
   "execution_count": 9,
   "metadata": {},
   "outputs": [
    {
     "data": {
      "text/html": [
       "<div>\n",
       "<style scoped>\n",
       "    .dataframe tbody tr th:only-of-type {\n",
       "        vertical-align: middle;\n",
       "    }\n",
       "\n",
       "    .dataframe tbody tr th {\n",
       "        vertical-align: top;\n",
       "    }\n",
       "\n",
       "    .dataframe thead th {\n",
       "        text-align: right;\n",
       "    }\n",
       "</style>\n",
       "<table border=\"1\" class=\"dataframe\">\n",
       "  <thead>\n",
       "    <tr style=\"text-align: right;\">\n",
       "      <th></th>\n",
       "      <th>Bet 365 Odds</th>\n",
       "    </tr>\n",
       "    <tr>\n",
       "      <th>outcome</th>\n",
       "      <th></th>\n",
       "    </tr>\n",
       "  </thead>\n",
       "  <tbody>\n",
       "    <tr>\n",
       "      <th>L</th>\n",
       "      <td>3.54</td>\n",
       "    </tr>\n",
       "    <tr>\n",
       "      <th>D</th>\n",
       "      <td>2.60</td>\n",
       "    </tr>\n",
       "    <tr>\n",
       "      <th>W</th>\n",
       "      <td>2.08</td>\n",
       "    </tr>\n",
       "  </tbody>\n",
       "</table>\n",
       "</div>"
      ],
      "text/plain": [
       "         Bet 365 Odds\n",
       "outcome              \n",
       "L                3.54\n",
       "D                2.60\n",
       "W                2.08"
      ]
     },
     "execution_count": 9,
     "metadata": {},
     "output_type": "execute_result"
    }
   ],
   "source": [
    "f_outcome(dat)\n",
    "tab = dat[dat.home].groupby('outcome')['B365H'].mean().to_frame('Bet 365 Odds')\n",
    "tab.loc[['L', 'D', 'W']].round(2)"
   ]
  },
  {
   "cell_type": "markdown",
   "metadata": {},
   "source": [
    "This illustrates that if we compute the probabilities "
   ]
  },
  {
   "cell_type": "code",
   "execution_count": 10,
   "metadata": {},
   "outputs": [
    {
     "name": "stdout",
     "output_type": "stream",
     "text": [
      "Bet 365 avg. overround across all matches:  114.93%\n"
     ]
    },
    {
     "data": {
      "text/html": [
       "<div>\n",
       "<style scoped>\n",
       "    .dataframe tbody tr th:only-of-type {\n",
       "        vertical-align: middle;\n",
       "    }\n",
       "\n",
       "    .dataframe tbody tr th {\n",
       "        vertical-align: top;\n",
       "    }\n",
       "\n",
       "    .dataframe thead th {\n",
       "        text-align: right;\n",
       "    }\n",
       "</style>\n",
       "<table border=\"1\" class=\"dataframe\">\n",
       "  <thead>\n",
       "    <tr style=\"text-align: right;\">\n",
       "      <th></th>\n",
       "      <th>Bet 365 Odds</th>\n",
       "      <th>inv_odds</th>\n",
       "      <th>probs</th>\n",
       "    </tr>\n",
       "    <tr>\n",
       "      <th>outcome</th>\n",
       "      <th></th>\n",
       "      <th></th>\n",
       "      <th></th>\n",
       "    </tr>\n",
       "  </thead>\n",
       "  <tbody>\n",
       "    <tr>\n",
       "      <th>L</th>\n",
       "      <td>3.537</td>\n",
       "      <td>0.283</td>\n",
       "      <td>0.246</td>\n",
       "    </tr>\n",
       "    <tr>\n",
       "      <th>D</th>\n",
       "      <td>2.599</td>\n",
       "      <td>0.385</td>\n",
       "      <td>0.335</td>\n",
       "    </tr>\n",
       "    <tr>\n",
       "      <th>W</th>\n",
       "      <td>2.075</td>\n",
       "      <td>0.482</td>\n",
       "      <td>0.419</td>\n",
       "    </tr>\n",
       "  </tbody>\n",
       "</table>\n",
       "</div>"
      ],
      "text/plain": [
       "         Bet 365 Odds  inv_odds  probs\n",
       "outcome                               \n",
       "L               3.537     0.283  0.246\n",
       "D               2.599     0.385  0.335\n",
       "W               2.075     0.482  0.419"
      ]
     },
     "execution_count": 10,
     "metadata": {},
     "output_type": "execute_result"
    }
   ],
   "source": [
    "tab['inv_odds'] = 1/tab['Bet 365 Odds']\n",
    "overround = tab['inv_odds'].sum()\n",
    "tab['probs'] = tab['inv_odds'] / overround\n",
    "\n",
    "print(f'Bet 365 avg. overround across all matches: {overround: 5.2%}')\n",
    "tab.loc[['L', 'D', 'W']].round(3)"
   ]
  }
 ],
 "metadata": {
  "kernelspec": {
   "display_name": "Python 3",
   "language": "python",
   "name": "python3"
  },
  "language_info": {
   "codemirror_mode": {
    "name": "ipython",
    "version": 3
   },
   "file_extension": ".py",
   "mimetype": "text/x-python",
   "name": "python",
   "nbconvert_exporter": "python",
   "pygments_lexer": "ipython3",
   "version": "3.9.4"
  }
 },
 "nbformat": 4,
 "nbformat_minor": 4
}
