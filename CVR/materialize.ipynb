{
 "cells": [
  {
   "cell_type": "markdown",
   "metadata": {},
   "source": [
    "# CVR Registret\n",
    "\n",
    "This code cleans the Danish register of company information. Specifically, the open lists of companies available here: https://www.sktst.dk/aktuelt/skatteoplysninger-for-selskaber/"
   ]
  },
  {
   "cell_type": "code",
   "execution_count": 1,
   "metadata": {},
   "outputs": [],
   "source": [
    "import pandas as pd \n",
    "import numpy as np \n",
    "import os "
   ]
  },
  {
   "cell_type": "code",
   "execution_count": 2,
   "metadata": {},
   "outputs": [],
   "source": [
    "def percentile(n):\n",
    "    '''\n",
    "        Example: df.groupby(year)[var].agg([percentile(10), percentile(90)]).plot()\n",
    "    '''\n",
    "    def percentile_(x):\n",
    "        return np.percentile(x, n)\n",
    "    percentile_.__name__ = f'P{n:2d}' \n",
    "    return percentile_"
   ]
  },
  {
   "cell_type": "markdown",
   "metadata": {},
   "source": [
    "# Read in data"
   ]
  },
  {
   "cell_type": "code",
   "execution_count": 3,
   "metadata": {},
   "outputs": [],
   "source": [
    "assert os.path.isdir('Raw'), f'There must be a subfolder \"./Raw\" in the current folder (where the raw data should be)'"
   ]
  },
  {
   "cell_type": "code",
   "execution_count": 4,
   "metadata": {},
   "outputs": [],
   "source": [
    "files = os.listdir('./Raw')\n",
    "files = [f for f in files if f.startswith('skatteliste-') and f.endswith('.csv')]\n",
    "assert len(files)>0, f'No files of the type \"skatteliste-*.csv\" found in ./Raw'"
   ]
  },
  {
   "cell_type": "code",
   "execution_count": 5,
   "metadata": {},
   "outputs": [
    {
     "data": {
      "text/plain": [
       "array([2012, 2013, 2014, 2015, 2016, 2017, 2018, 2019])"
      ]
     },
     "execution_count": 5,
     "metadata": {},
     "output_type": "execute_result"
    }
   ],
   "source": [
    "years = np.sort([int(f[12:16]) for f in files])\n",
    "years"
   ]
  },
  {
   "cell_type": "code",
   "execution_count": 6,
   "metadata": {},
   "outputs": [
    {
     "name": "stdout",
     "output_type": "stream",
     "text": [
      "2012\n"
     ]
    },
    {
     "name": "stderr",
     "output_type": "stream",
     "text": [
      "/Users/mrz577/opt/anaconda3/envs/py39/lib/python3.9/site-packages/IPython/core/interactiveshell.py:3165: DtypeWarning: Columns (18) have mixed types.Specify dtype option on import or set low_memory=False.\n",
      "  has_raised = await self.run_ast_nodes(code_ast.body, cell_name,\n"
     ]
    },
    {
     "name": "stdout",
     "output_type": "stream",
     "text": [
      "2013\n",
      "2014\n",
      "2015\n",
      "2016\n",
      "2017\n",
      "2018\n",
      "2019\n"
     ]
    }
   ],
   "source": [
    "dd = []\n",
    "for yr in years: \n",
    "    print(yr)\n",
    "    if yr == 2015: \n",
    "        encoding = 'latin' # in 2015, the encoding is different, for some reason\n",
    "    else: \n",
    "        encoding = 'utf'\n",
    "        \n",
    "    d_ = pd.read_csv(f'./Raw/skatteliste-{yr}.csv', encoding=encoding, na_values='\\xa0')\n",
    "    d_['year'] = yr\n",
    "    dd.append(d_)"
   ]
  },
  {
   "cell_type": "markdown",
   "metadata": {},
   "source": [
    "Concatenate into a single dataframe"
   ]
  },
  {
   "cell_type": "code",
   "execution_count": 7,
   "metadata": {},
   "outputs": [],
   "source": [
    "dat = pd.concat(dd)\n",
    "del dd"
   ]
  },
  {
   "cell_type": "code",
   "execution_count": 8,
   "metadata": {},
   "outputs": [],
   "source": [
    "dat['dummy_co2'] = dat['Kode = K = Kulbrinte'] == 'K'\n",
    "del dat['Kode = K = Kulbrinte']\n",
    "\n",
    "dat['taxed_by_co2'] = dat['Kulbrinte/tonnage'] == 'Kulbrintebeskattet'\n",
    "dat['taxed_by_tonnage'] = dat['Kulbrinte/tonnage'] == 'Tonnagebeskattet'\n",
    "del dat['Kulbrinte/tonnage']"
   ]
  },
  {
   "cell_type": "code",
   "execution_count": 9,
   "metadata": {},
   "outputs": [],
   "source": [
    "del dat['Unnamed: 20']"
   ]
  },
  {
   "cell_type": "code",
   "execution_count": 10,
   "metadata": {},
   "outputs": [],
   "source": [
    "cols_category = ['Skattepligtsbestemmelse', 'Selskabstype']\n",
    "for c in cols_category: \n",
    "    dat[c] = dat[c].astype('category')"
   ]
  },
  {
   "cell_type": "markdown",
   "metadata": {},
   "source": [
    "Much of this relates to the `kulbrinteskat` (carbo-hydrates  tax). "
   ]
  },
  {
   "cell_type": "code",
   "execution_count": 11,
   "metadata": {},
   "outputs": [],
   "source": [
    "dict_ren = {'Administrationsselskabets CVR-nr.':'parent_cvr', 'Indkomstår':'income_year', 'CVR-nr.':'cvr', \n",
    "           'Navn':'name', 'SE-nr.':'se_nr', 'Selskabstype':'company_type', 'Skattepligtic indkomst':'income',\n",
    "           'Underskud':'deficit', 'Skattepligtig indkomst':'taxable_income', 'Skattepligtsbestemmelse':'taxation_category', \n",
    "           'Selskabsskat':'tax', 'Skattepligtig Kulbrinteindkosmt':'taxable_ch_income', \n",
    "           'kulbrinte_skat':'ch_tax', 'Underskud fratrukket i selskabsindkomst jf. KB':'deficit_subtracted_from_ch_tax',\n",
    "           'Selskabsindkomst jf. KB':'tax_cf_ch', 'SE nr. Kulbrinte':'se_nr_ch', 'Selskabsskat af KB':'tax_of_ch', \n",
    "           'Kulbrinteskat':'ch_tax', 'Skattepligtig Kulbrinteindkomst':'taxable_ch_income'}\n",
    "dat.rename(columns=dict_ren, inplace=True)"
   ]
  },
  {
   "cell_type": "code",
   "execution_count": 12,
   "metadata": {},
   "outputs": [],
   "source": [
    "dat['date_ajour'] = pd.to_datetime(dat['Dato ajour'])\n",
    "del dat['Dato ajour']"
   ]
  },
  {
   "cell_type": "code",
   "execution_count": 13,
   "metadata": {},
   "outputs": [],
   "source": [
    "I = dat.parent_cvr == 0.0 # in 2014, all missings are coded as 0.0 for some reason\n",
    "dat.loc[I, 'parent_cvr'] = np.nan"
   ]
  },
  {
   "cell_type": "code",
   "execution_count": 14,
   "metadata": {},
   "outputs": [],
   "source": [
    "ch_vars = ['taxable_ch_income', 'ch_tax',\n",
    "       'Underskud fratrukket i kulbrinteindkomst', 'tax_cf_ch',\n",
    "       'deficit_subtracted_from_ch_tax', 'tax_of_ch', 'se_nr_ch', 'dummy_co2',\n",
    "       'taxed_by_co2', 'taxed_by_tonnage']"
   ]
  },
  {
   "cell_type": "code",
   "execution_count": 15,
   "metadata": {},
   "outputs": [
    {
     "name": "stdout",
     "output_type": "stream",
     "text": [
      "(none found here)\n"
     ]
    }
   ],
   "source": [
    "dat['net_inc']= dat.taxable_income - dat.deficit\n",
    "\n",
    "I = dat.taxable_income.notnull() & dat.deficit.isnull()\n",
    "dat.loc[I, 'net_inc'] = dat.loc[I, 'taxable_income']\n",
    "\n",
    "I = dat.taxable_income.isnull() & dat.deficit.notnull()\n",
    "if I.any():\n",
    "    dat.loc[I, 'net_inc'] = -dat.loc[I, 'deficit']\n",
    "else: \n",
    "    print('(none found here)')"
   ]
  },
  {
   "cell_type": "markdown",
   "metadata": {},
   "source": [
    "### Categorize firms based on the name\n",
    "\n",
    "We do not observe much about firms, but their names contain (imperfect/imprecise) info about them. "
   ]
  },
  {
   "cell_type": "code",
   "execution_count": 16,
   "metadata": {},
   "outputs": [],
   "source": [
    "dat.name = dat.name.str.lower()"
   ]
  },
  {
   "cell_type": "code",
   "execution_count": 17,
   "metadata": {},
   "outputs": [],
   "source": [
    "dat['dum_as']           = dat.name.str.contains('a/s')\n",
    "dat['dum_aps']          = dat.name.str.contains('aps')\n",
    "dat['dum_ivs']          = dat.name.str.contains('ivs')\n",
    "dat['dum_ab']           = dat.name.str.contains('a/b')\n",
    "dat['dum_realestate']   = dat.name.str.contains('ejendom')\n",
    "dat['dum_holding']      = dat.name.str.contains('holding')\n",
    "dat['dum_invest']       = dat.name.str.contains('invest')\n",
    "dat['dum_consult']      = dat.name.str.contains('consult')\n",
    "dat['dum_service']      = dat.name.str.contains('service')\n",
    "dat['dum_dot_dk']       = dat.name.str.contains('.dk')\n",
    "dat['dum_doctor']       = dat.name.str.contains('læge')\n",
    "dat['dum_carpenter']    = dat.name.str.contains('tømrer')\n",
    "dat['dum_transport']    = dat.name.str.contains('transport') | dat.name.str.contains('lastvogn')\n",
    "dat['dum_plumbing']     = dat.name.str.contains('vvs') | dat.name.str.contains('kloak')\n",
    "dat['dum_import']       = dat.name.str.contains('import')\n",
    "dat['dum_masonry']      = dat.name.str.contains('murer')\n",
    "dat['dum_nielsen']      = dat.name.str.contains('nielsen')\n",
    "dat['dum_sorensen']     = dat.name.str.contains('sorensen')"
   ]
  },
  {
   "cell_type": "code",
   "execution_count": 18,
   "metadata": {},
   "outputs": [],
   "source": [
    "cc = ['autocenter', 'automob', 'automester', 'autoværk', 'autoclean', 'autolak', 'autoophug', 'autoteknik', 'autodele', 'autogården', 'biler']\n",
    "c = cc[0]\n",
    "I = dat.name.str.contains(c)\n",
    "for c in cc[1:]: \n",
    "    I = I | dat.name.str.contains(c)\n",
    "dat['dum_cars'] = I == True"
   ]
  },
  {
   "cell_type": "code",
   "execution_count": 19,
   "metadata": {},
   "outputs": [],
   "source": [
    "cols_dum = [c for c in dat.columns if c[:4] == 'dum_']"
   ]
  },
  {
   "cell_type": "markdown",
   "metadata": {},
   "source": [
    "### `dat['cat']`: firm category \n",
    "A neat categorical variable\n",
    "\n",
    "**Warning:** Firms can have multiple dummies switched on: then only the last one is kept. "
   ]
  },
  {
   "cell_type": "code",
   "execution_count": 20,
   "metadata": {},
   "outputs": [],
   "source": [
    "dat['cat'] = np.nan\n",
    "for c in cols_dum[4:]: \n",
    "    name = c[4:]\n",
    "    dat.loc[dat[c], 'cat'] = name\n",
    "dat['cat'] = dat['cat'].astype('category')"
   ]
  },
  {
   "cell_type": "code",
   "execution_count": 21,
   "metadata": {},
   "outputs": [
    {
     "data": {
      "image/png": "[encoded data removed]",
      "text/plain": [
       "<Figure size 432x288 with 1 Axes>"
      ]
     },
     "metadata": {
      "needs_background": "light"
     },
     "output_type": "display_data"
    }
   ],
   "source": [
    "ax = dat.groupby('cat').net_inc.mean().plot(kind='bar'); \n",
    "ax.set_ylabel('Firm revenue minus losses'); ax.set_xlabel('Firm name contains'); "
   ]
  },
  {
   "cell_type": "code",
   "execution_count": 22,
   "metadata": {},
   "outputs": [
    {
     "data": {
      "image/png": "[encoded data removed]",
      "text/plain": [
       "<Figure size 432x288 with 1 Axes>"
      ]
     },
     "metadata": {
      "needs_background": "light"
     },
     "output_type": "display_data"
    }
   ],
   "source": [
    "ax = dat.groupby('cat').tax.mean().plot(kind='bar'); \n",
    "ax.set_ylabel('Tax Payment'); ax.set_xlabel('Firm name contains'); "
   ]
  },
  {
   "cell_type": "markdown",
   "metadata": {},
   "source": [
    "# Export for Analysis Dataset"
   ]
  },
  {
   "cell_type": "code",
   "execution_count": 23,
   "metadata": {},
   "outputs": [
    {
     "data": {
      "image/png": "[encoded data removed]",
      "text/plain": [
       "<Figure size 432x288 with 1 Axes>"
      ]
     },
     "metadata": {
      "needs_background": "light"
     },
     "output_type": "display_data"
    }
   ],
   "source": [
    "# income makes sense if we delete the very large firms (over 10 mio net earnings before taxes )\n",
    "I = np.abs(dat.net_inc) < 10_000_000\n",
    "dat[I].net_inc.hist(bins=100);"
   ]
  },
  {
   "cell_type": "markdown",
   "metadata": {},
   "source": [
    "## Sample Selection"
   ]
  },
  {
   "cell_type": "code",
   "execution_count": 24,
   "metadata": {},
   "outputs": [
    {
     "data": {
      "text/plain": [
       "<AxesSubplot:xlabel='year'>"
      ]
     },
     "execution_count": 24,
     "metadata": {},
     "output_type": "execute_result"
    },
    {
     "data": {
      "image/png": "[encoded data removed]",
      "text/plain": [
       "<Figure size 432x288 with 1 Axes>"
      ]
     },
     "metadata": {
      "needs_background": "light"
     },
     "output_type": "display_data"
    }
   ],
   "source": [
    "I = (dat.parent_cvr.isnull())\n",
    "dat[I].groupby('year').net_inc.sum().plot(marker='o')"
   ]
  },
  {
   "cell_type": "code",
   "execution_count": 25,
   "metadata": {},
   "outputs": [
    {
     "name": "stdout",
     "output_type": "stream",
     "text": [
      "Selecting 47.97% of obs. (1,099,982 obs.)\n"
     ]
    }
   ],
   "source": [
    "I = ((dat.company_type == 'Enkeltstående selskab') # no conglomorates \n",
    "     & (dat.parent_cvr.isnull()) # not a daughter \n",
    "     & (np.abs(dat.net_inc) < 10_000_000)) # net inc before tax below 10 mio DKK \n",
    "print(f'Selecting {I.mean():5.2%} of obs. ({I.sum():,d} obs.)')\n",
    "d = dat[I].sort_values(['cvr', 'year'])"
   ]
  },
  {
   "cell_type": "markdown",
   "metadata": {},
   "source": [
    "### Making the sample balanced"
   ]
  },
  {
   "cell_type": "code",
   "execution_count": 26,
   "metadata": {},
   "outputs": [
    {
     "name": "stdout",
     "output_type": "stream",
     "text": [
      "Dropping 18 CVR numbers\n"
     ]
    }
   ],
   "source": [
    "tmp = d.groupby(['cvr', 'year']).net_inc.count().groupby(level='cvr').max()\n",
    "cvr_drop = tmp[tmp == 2].index.values\n",
    "print(f'Dropping {len(cvr_drop)} CVR numbers')\n",
    "d = d.loc[d.cvr.isin(cvr_drop) == False, :].copy()"
   ]
  },
  {
   "cell_type": "code",
   "execution_count": 27,
   "metadata": {},
   "outputs": [
    {
     "name": "stdout",
     "output_type": "stream",
     "text": [
      "Selecting 47.23% of obs. (519,416 obs.)\n"
     ]
    }
   ],
   "source": [
    "d['num_years'] = d.groupby('cvr').net_inc.transform('count')\n",
    "\n",
    "# select a balanced sample\n",
    "I = d.num_years == d.year.unique().size\n",
    "print(f'Selecting {I.mean():5.2%} of obs. ({I.sum():,d} obs.)')\n",
    "d = d[I].copy()"
   ]
  },
  {
   "cell_type": "markdown",
   "metadata": {},
   "source": [
    "### Add anonymized firm ID variable \n",
    "\n",
    "The `CVR` number is too directly related to the firm. Instead, we create `firmid` as `0, 1, ..., N`. "
   ]
  },
  {
   "cell_type": "code",
   "execution_count": 28,
   "metadata": {},
   "outputs": [],
   "source": [
    "c_ = d.cvr.drop_duplicates().reset_index(drop=True)\n",
    "c_.index.name = 'firmid'\n",
    "d = pd.merge(d, c_.reset_index(), on='cvr', how='left')\n",
    "del d['cvr']"
   ]
  },
  {
   "cell_type": "code",
   "execution_count": 29,
   "metadata": {},
   "outputs": [],
   "source": [
    "# make sure the dataset is ready to do first differencing \n",
    "d.sort_values(['firmid', 'year'], inplace=True)"
   ]
  },
  {
   "cell_type": "markdown",
   "metadata": {},
   "source": [
    "### Save dataset"
   ]
  },
  {
   "cell_type": "code",
   "execution_count": 30,
   "metadata": {},
   "outputs": [],
   "source": [
    "cols = ['firmid', 'year', 'taxable_income', 'deficit', 'tax', 'net_inc', 'cat'] + cols_dum\n",
    "d_ = d[cols].copy()\n",
    "for c in cols_dum: \n",
    "    d_[c] = d_[c].astype(int)\n",
    "d_.to_csv('cvr_extract.csv', index=False)"
   ]
  },
  {
   "cell_type": "code",
   "execution_count": 31,
   "metadata": {},
   "outputs": [
    {
     "ename": "NameError",
     "evalue": "name 'stop' is not defined",
     "output_type": "error",
     "traceback": [
      "\u001b[0;31m---------------------------------------------------------------------------\u001b[0m",
      "\u001b[0;31mNameError\u001b[0m                                 Traceback (most recent call last)",
      "\u001b[0;32m<ipython-input-31-8bdc5260076c>\u001b[0m in \u001b[0;36m<module>\u001b[0;34m\u001b[0m\n\u001b[0;32m----> 1\u001b[0;31m \u001b[0mstop\u001b[0m \u001b[0;31m# stop execution here. The code below is not working\u001b[0m\u001b[0;34m\u001b[0m\u001b[0;34m\u001b[0m\u001b[0m\n\u001b[0m",
      "\u001b[0;31mNameError\u001b[0m: name 'stop' is not defined"
     ]
    }
   ],
   "source": [
    "stop # stop execution here. The code below is not working"
   ]
  },
  {
   "cell_type": "markdown",
   "metadata": {},
   "source": [
    "# Daughter companies\n",
    "\n",
    "**Unfinished code Below!** \n",
    "* **Goal:** analyzing what happens when a company gets a daughter/subsidiary.\n",
    "* To do this, we link via the `parent_cvr` variable.\n",
    "* I have not finished the code but it should be possible to proceed based on the code below"
   ]
  },
  {
   "cell_type": "code",
   "execution_count": null,
   "metadata": {},
   "outputs": [],
   "source": [
    "I = dat.parent_cvr.notnull()\n",
    "daughters = dat.loc[I, ['parent_cvr', 'year', 'taxable_income', 'deficit']]"
   ]
  },
  {
   "cell_type": "code",
   "execution_count": null,
   "metadata": {},
   "outputs": [],
   "source": [
    "daughters = daughters.query('parent_cvr != 0.0')"
   ]
  },
  {
   "cell_type": "code",
   "execution_count": null,
   "metadata": {},
   "outputs": [],
   "source": [
    "d_ = daughters.groupby('parent_cvr').sum()"
   ]
  },
  {
   "cell_type": "code",
   "execution_count": null,
   "metadata": {},
   "outputs": [],
   "source": [
    "d_['num_daughters'] = daughters.groupby('parent_cvr').taxable_income.size()"
   ]
  },
  {
   "cell_type": "code",
   "execution_count": null,
   "metadata": {},
   "outputs": [],
   "source": [
    "I = dat.parent_cvr.isnull()\n",
    "d = pd.merge(dat[I], d_, left_on=['cvr', 'year'], right_on=['parent_cvr', 'year'], how='left', suffixes=('', '_daughter'))"
   ]
  },
  {
   "cell_type": "code",
   "execution_count": null,
   "metadata": {},
   "outputs": [],
   "source": [
    "del d['parent_cvr'] # these rows are only for parent companies"
   ]
  },
  {
   "cell_type": "code",
   "execution_count": null,
   "metadata": {},
   "outputs": [],
   "source": [
    "d.taxable_income.describe()"
   ]
  },
  {
   "cell_type": "code",
   "execution_count": null,
   "metadata": {},
   "outputs": [],
   "source": [
    "I = np.abs(d.taxable_income) < 1000000\n",
    "d[I].taxable_income.hist(bins=100)"
   ]
  },
  {
   "cell_type": "code",
   "execution_count": null,
   "metadata": {},
   "outputs": [],
   "source": [
    "d = d.set_index(['cvr', 'year']).sort_index()"
   ]
  },
  {
   "cell_type": "code",
   "execution_count": null,
   "metadata": {},
   "outputs": [],
   "source": [
    "for c in ch_vars: \n",
    "    del d[c]"
   ]
  },
  {
   "cell_type": "code",
   "execution_count": null,
   "metadata": {},
   "outputs": [],
   "source": [
    "I = np.abs(d.net_inc) < 1000000\n",
    "d.loc[I, 'net_inc'].hist(bins=100);"
   ]
  },
  {
   "cell_type": "code",
   "execution_count": null,
   "metadata": {},
   "outputs": [],
   "source": [
    "d[I].groupby('year').net_inc.agg(['mean', percentile(10), percentile(50), percentile(90)]).plot(marker='o'); "
   ]
  },
  {
   "cell_type": "code",
   "execution_count": null,
   "metadata": {},
   "outputs": [],
   "source": [
    "d.num_daughters.fillna(0, inplace=True)\n",
    "d.num_daughters = d.num_daughters.astype(int)"
   ]
  },
  {
   "cell_type": "markdown",
   "metadata": {},
   "source": [
    "Changes in the number of daughter companies within a firm "
   ]
  },
  {
   "cell_type": "code",
   "execution_count": null,
   "metadata": {},
   "outputs": [],
   "source": [
    "d['diff_num_daughters'] = d.groupby(level=['cvr']).num_daughters.diff()"
   ]
  },
  {
   "cell_type": "code",
   "execution_count": null,
   "metadata": {},
   "outputs": [],
   "source": [
    "d.diff_num_daughters.value_counts()"
   ]
  },
  {
   "cell_type": "code",
   "execution_count": null,
   "metadata": {},
   "outputs": [],
   "source": [
    "min_diff = d.groupby(level='cvr').diff_num_daughters.min()\n",
    "max_diff = d.groupby(level='cvr').diff_num_daughters.max()"
   ]
  },
  {
   "cell_type": "code",
   "execution_count": null,
   "metadata": {},
   "outputs": [],
   "source": [
    "# find CVR numbers where there is growth at least at some point\n",
    "cvrs = max_diff[max_diff == 1.0].index.values\n",
    "idx = d.loc[d.diff_num_daughters == 1.0, []]\n",
    "idx.reset_index().year.value_counts()\n",
    "\n",
    "# create event variable, \"t\"\n",
    "d.loc[idx.index, 't'] = 1 # event occurs at period t = 0 "
   ]
  },
  {
   "cell_type": "code",
   "execution_count": null,
   "metadata": {},
   "outputs": [],
   "source": [
    "def create_event_time(x: np.ndarray) -> np.ndarray: \n",
    "    '''create_event_time(x)\n",
    "        ARGS: \n",
    "            x: array that is == 1 when an entry occurs \n",
    "        RETURNS: \n",
    "            array of nans if no event ever occurs, otherwise array like [-1, 0, 1, 2] (if t == 1 in the second period)\n",
    "    '''\n",
    "    N = len(x)\n",
    "    for i in range(N): \n",
    "        if x[i] == 1: \n",
    "            break\n",
    "    if i < len(x): \n",
    "        return np.arange(N)-i\n",
    "    else: \n",
    "        # we went through the whole list without finding a single event \n",
    "        return np.nan((N,))"
   ]
  },
  {
   "cell_type": "code",
   "execution_count": null,
   "metadata": {},
   "outputs": [],
   "source": [
    "d['t_'] = d.groupby(level='cvr').t.transform(lambda x: create_event_time(x.values))"
   ]
  },
  {
   "cell_type": "code",
   "execution_count": null,
   "metadata": {},
   "outputs": [],
   "source": [
    "# let's look at some of the rows where an entry occurred \n",
    "d.loc[cvrs[:2]][['num_daughters', 't','t_', 'net_inc']]"
   ]
  },
  {
   "cell_type": "code",
   "execution_count": null,
   "metadata": {},
   "outputs": [],
   "source": [
    "del d['t']\n",
    "d.rename(columns={'t_':'t'}, inplace=True)"
   ]
  },
  {
   "cell_type": "code",
   "execution_count": null,
   "metadata": {},
   "outputs": [],
   "source": [
    "I = (np.abs(d.net_inc) < 1000000) & (d.t > -5) & (d.net_inc != 0.0)"
   ]
  },
  {
   "cell_type": "code",
   "execution_count": null,
   "metadata": {},
   "outputs": [],
   "source": [
    "ax = d[I].groupby('t').net_inc.agg([percentile(10), percentile(50), percentile(90)]).plot(marker='o')\n",
    "ax.axvline(-0.5, color='gray', linestyle=':'); "
   ]
  },
  {
   "cell_type": "code",
   "execution_count": null,
   "metadata": {},
   "outputs": [],
   "source": [
    "dat[(dat.tax < 0)]"
   ]
  }
 ],
 "metadata": {
  "kernelspec": {
   "display_name": "Python 3",
   "language": "python",
   "name": "python3"
  },
  "language_info": {
   "codemirror_mode": {
    "name": "ipython",
    "version": 3
   },
   "file_extension": ".py",
   "mimetype": "text/x-python",
   "name": "python",
   "nbconvert_exporter": "python",
   "pygments_lexer": "ipython3",
   "version": "3.9.4"
  }
 },
 "nbformat": 4,
 "nbformat_minor": 4
}
