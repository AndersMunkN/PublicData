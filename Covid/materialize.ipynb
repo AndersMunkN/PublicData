{
 "cells": [
  {
   "cell_type": "markdown",
   "metadata": {},
   "source": [
    "# Matrializing the Covid dataset\n",
    "\n",
    "* **Author:** Anders Munk-Nielsen \n",
    "* **Ouotput:** `covid.csv`: Each row is a `country` on a `date`. \n",
    "* **Source data:**\n",
    "  * [OWID Covid dataset](https://ourworldindata.org/coronavirus-source-data): Covid dataset with deaths, tests, cases, and time-constant country information. \n",
    "  * [Apple mobility data](https://covid19.apple.com/mobility): Daily data on mobility from Apple's devices, the variables `mobility_driving`, `mobility_transit`, `mobility_walking`.\n",
    "  * [Climate data, from the US' NOAA](ftp://ftp.ncdc.noaa.gov/pub/data/ghcn/daily/): Daily data from weather stations across the world. The raw data files are [`2020.csv.gz`](ftp://ftp.ncdc.noaa.gov/pub/data/ghcn/daily/by_year/2020.csv.gz), [`2021.csv.gz`](ftp://ftp.ncdc.noaa.gov/pub/data/ghcn/daily/by_year/2021.csv.gz).\n",
    "      * Additionally, a list of NOAA country classifications (like ISO2) [`2020_countries.txt`](https://www1.ncdc.noaa.gov/pub/data/ghcn/daily/ghcnd-countries.txt))\n",
    "  * [Google mobility data](https://www.google.com/covid19/mobility/): the variables `location_retail_and_recreation`,`location_grocery_and_pharmacy`,`location_parks`,`location_transit_stations`,`location_workplaces`,`location_residential`"
   ]
  },
  {
   "cell_type": "markdown",
   "metadata": {},
   "source": [
    "# Setup "
   ]
  },
  {
   "cell_type": "code",
   "execution_count": 1,
   "metadata": {},
   "outputs": [],
   "source": [
    "import pandas as pd \n",
    "import numpy as np \n",
    "import os "
   ]
  },
  {
   "cell_type": "code",
   "execution_count": 2,
   "metadata": {},
   "outputs": [],
   "source": [
    "assert os.path.isdir('./Raw'), f'There must be a subfolder \"Raw\" (with the raw data) in this directory.'"
   ]
  },
  {
   "cell_type": "code",
   "execution_count": 3,
   "metadata": {},
   "outputs": [
    {
     "name": "stdout",
     "output_type": "stream",
     "text": [
      "Files located in ./Raw: ['country_iso2_iso3.txt', '2020_countries.txt', '2020.csv', '2021.csv', '2020.csv.gz', 'owid-covid-data.csv', 'Global_Mobility_Report.csv', 'applemobilitytrends-2021-11-15.csv', '2021.csv.gz']\n"
     ]
    }
   ],
   "source": [
    "files = os.listdir('./Raw')\n",
    "print(f'Files located in ./Raw: {files}')\n",
    "for f in ['Global_Mobility_Report.csv', 'country_iso2_iso3.txt', 'owid-covid-data.csv']:\n",
    "    assert f in files, f'File \"{f}\" not found in ./Raw: Please download it first.'"
   ]
  },
  {
   "cell_type": "markdown",
   "metadata": {},
   "source": [
    "Apple mobility data file changes depending on the date on which it was downloaded."
   ]
  },
  {
   "cell_type": "code",
   "execution_count": 4,
   "metadata": {},
   "outputs": [
    {
     "name": "stdout",
     "output_type": "stream",
     "text": [
      "Found apple file: Raw/applemobilitytrends-2021-11-15.csv\n"
     ]
    }
   ],
   "source": [
    "tmp = [f for f in files if f.startswith('applemobilitytrends-') and f.endswith('.csv')]\n",
    "assert len(tmp) == 1, f'There must be precisely one file starting with \"applemobilitytrends-\" and ending with \".csv\"'\n",
    "AppleFile = f'Raw/{tmp[0]}'\n",
    "print(f'Found apple file: {AppleFile}')"
   ]
  },
  {
   "cell_type": "markdown",
   "metadata": {},
   "source": [
    "## Unzip weather data\n",
    "\n",
    "The raw file comes in .gz format. The unzipped versions are extremely large, so we will delete them afterwards."
   ]
  },
  {
   "cell_type": "code",
   "execution_count": 5,
   "metadata": {},
   "outputs": [
    {
     "name": "stdout",
     "output_type": "stream",
     "text": [
      "Found weather data for the years: [2020, 2021]\n"
     ]
    }
   ],
   "source": [
    "weather_files = [f for f in files if f.endswith('.csv.gz')]\n",
    "years = [int(w[:4]) for w in weather_files]\n",
    "print(f'Found weather data for the years: {years}')"
   ]
  },
  {
   "cell_type": "code",
   "execution_count": 6,
   "metadata": {},
   "outputs": [],
   "source": [
    "# unzip the climate data files\n",
    "import gzip\n",
    "import shutil\n",
    "for y in years: \n",
    "    with gzip.open(f'Raw/{y}.csv.gz', 'rb') as f_in:\n",
    "        with open(f'Raw/{y}.csv', 'wb') as f_out:\n",
    "            shutil.copyfileobj(f_in, f_out)"
   ]
  },
  {
   "cell_type": "markdown",
   "metadata": {},
   "source": [
    "# Read in"
   ]
  },
  {
   "cell_type": "markdown",
   "metadata": {},
   "source": [
    "**COVID data** "
   ]
  },
  {
   "cell_type": "code",
   "execution_count": 7,
   "metadata": {},
   "outputs": [],
   "source": [
    "C = pd.read_csv('Raw/owid-covid-data.csv').rename(columns={'location':'country'})\n",
    "C.date = pd.to_datetime(C.date)\n",
    "# Drop a few observations \n",
    "Ikeep = ((C.iso_code.isin(['OWID_KOS', 'OWID_WRL'])) | (C.iso_code.isnull())) == False\n",
    "C = C.loc[Ikeep, :]"
   ]
  },
  {
   "cell_type": "code",
   "execution_count": 8,
   "metadata": {},
   "outputs": [],
   "source": [
    "# list of all countries we have Covid data for: ISO3 code and name \n",
    "countries_C = C[['iso_code', 'country']].drop_duplicates()"
   ]
  },
  {
   "cell_type": "markdown",
   "metadata": {},
   "source": [
    "**Apple Mobility data**"
   ]
  },
  {
   "cell_type": "code",
   "execution_count": 9,
   "metadata": {},
   "outputs": [],
   "source": [
    "A = pd.read_csv(AppleFile, low_memory=False) # low-memory option required since column 3 has mixed types... apparrently "
   ]
  },
  {
   "cell_type": "markdown",
   "metadata": {},
   "source": [
    "**Temperature data** (from NOAA). This data unfortunately stores country names in ISO2 format, so we will have to merge between ISO2 and ISO3. The dataset contains many additional weather-related variables which we will not use. "
   ]
  },
  {
   "cell_type": "code",
   "execution_count": 10,
   "metadata": {},
   "outputs": [],
   "source": [
    "TT = []\n",
    "for y in years: \n",
    "    # each file takes approx 45sec to read in to pandas \n",
    "    fname = f'raw/{y}.csv' # climate data for this year (unzipped earlier)\n",
    "\n",
    "    # the variables, x1-x4, contain detailed information about the sensor data point\n",
    "    # for instance, some of them are error codes\n",
    "    T = pd.read_csv(fname, names=['station_id', 'date', 'statistic', 'value', 'flag_measurement', 'flag_quality','flag_source', 'flag_value'])\n",
    "    T.date = pd.to_datetime(T.date, format='%Y%m%d')\n",
    "\n",
    "    # ISO2 name of teh country in NOAA format\n",
    "    T['country_iso2'] = T.station_id.str[:2]\n",
    "\n",
    "    TT.append(T)\n",
    "\n",
    "T = pd.concat(TT, axis=0)\n"
   ]
  },
  {
   "cell_type": "code",
   "execution_count": 11,
   "metadata": {},
   "outputs": [
    {
     "data": {
      "text/html": [
       "<div>\n",
       "<style scoped>\n",
       "    .dataframe tbody tr th:only-of-type {\n",
       "        vertical-align: middle;\n",
       "    }\n",
       "\n",
       "    .dataframe tbody tr th {\n",
       "        vertical-align: top;\n",
       "    }\n",
       "\n",
       "    .dataframe thead th {\n",
       "        text-align: right;\n",
       "    }\n",
       "</style>\n",
       "<table border=\"1\" class=\"dataframe\">\n",
       "  <thead>\n",
       "    <tr style=\"text-align: right;\">\n",
       "      <th></th>\n",
       "      <th>station_id</th>\n",
       "      <th>date</th>\n",
       "      <th>statistic</th>\n",
       "      <th>value</th>\n",
       "      <th>flag_measurement</th>\n",
       "      <th>flag_quality</th>\n",
       "      <th>flag_source</th>\n",
       "      <th>flag_value</th>\n",
       "      <th>country_iso2</th>\n",
       "    </tr>\n",
       "  </thead>\n",
       "  <tbody>\n",
       "    <tr>\n",
       "      <th>0</th>\n",
       "      <td>AE000041196</td>\n",
       "      <td>2020-01-01</td>\n",
       "      <td>TMIN</td>\n",
       "      <td>168</td>\n",
       "      <td>NaN</td>\n",
       "      <td>NaN</td>\n",
       "      <td>S</td>\n",
       "      <td>NaN</td>\n",
       "      <td>AE</td>\n",
       "    </tr>\n",
       "    <tr>\n",
       "      <th>1</th>\n",
       "      <td>AE000041196</td>\n",
       "      <td>2020-01-01</td>\n",
       "      <td>PRCP</td>\n",
       "      <td>0</td>\n",
       "      <td>D</td>\n",
       "      <td>NaN</td>\n",
       "      <td>S</td>\n",
       "      <td>NaN</td>\n",
       "      <td>AE</td>\n",
       "    </tr>\n",
       "    <tr>\n",
       "      <th>2</th>\n",
       "      <td>AE000041196</td>\n",
       "      <td>2020-01-01</td>\n",
       "      <td>TAVG</td>\n",
       "      <td>211</td>\n",
       "      <td>H</td>\n",
       "      <td>NaN</td>\n",
       "      <td>S</td>\n",
       "      <td>NaN</td>\n",
       "      <td>AE</td>\n",
       "    </tr>\n",
       "    <tr>\n",
       "      <th>3</th>\n",
       "      <td>AEM00041194</td>\n",
       "      <td>2020-01-01</td>\n",
       "      <td>PRCP</td>\n",
       "      <td>0</td>\n",
       "      <td>NaN</td>\n",
       "      <td>NaN</td>\n",
       "      <td>S</td>\n",
       "      <td>NaN</td>\n",
       "      <td>AE</td>\n",
       "    </tr>\n",
       "    <tr>\n",
       "      <th>4</th>\n",
       "      <td>AEM00041194</td>\n",
       "      <td>2020-01-01</td>\n",
       "      <td>TAVG</td>\n",
       "      <td>217</td>\n",
       "      <td>H</td>\n",
       "      <td>NaN</td>\n",
       "      <td>S</td>\n",
       "      <td>NaN</td>\n",
       "      <td>AE</td>\n",
       "    </tr>\n",
       "  </tbody>\n",
       "</table>\n",
       "</div>"
      ],
      "text/plain": [
       "    station_id       date statistic  value flag_measurement flag_quality  \\\n",
       "0  AE000041196 2020-01-01      TMIN    168              NaN          NaN   \n",
       "1  AE000041196 2020-01-01      PRCP      0                D          NaN   \n",
       "2  AE000041196 2020-01-01      TAVG    211                H          NaN   \n",
       "3  AEM00041194 2020-01-01      PRCP      0              NaN          NaN   \n",
       "4  AEM00041194 2020-01-01      TAVG    217                H          NaN   \n",
       "\n",
       "  flag_source  flag_value country_iso2  \n",
       "0           S         NaN           AE  \n",
       "1           S         NaN           AE  \n",
       "2           S         NaN           AE  \n",
       "3           S         NaN           AE  \n",
       "4           S         NaN           AE  "
      ]
     },
     "execution_count": 11,
     "metadata": {},
     "output_type": "execute_result"
    }
   ],
   "source": [
    "T.head()"
   ]
  },
  {
   "cell_type": "code",
   "execution_count": 12,
   "metadata": {},
   "outputs": [],
   "source": [
    "del TT # cleanup (each dataframe is quite large)"
   ]
  },
  {
   "cell_type": "markdown",
   "metadata": {},
   "source": [
    "Only keep temperature information and convert to celsius"
   ]
  },
  {
   "cell_type": "code",
   "execution_count": 13,
   "metadata": {},
   "outputs": [],
   "source": [
    "T = T[T.statistic == 'TAVG'].copy()\n",
    "T.value = T.value / 10.0 # baseline is measured in tens of degrees celsius(!) "
   ]
  },
  {
   "cell_type": "markdown",
   "metadata": {},
   "source": [
    "ISO2-to-name list: Fortunately, the NOAA provides a list of their ISO2 country name abbreviations\n",
    "(***Note:*** Only reading in the list from 2020, assuming that no country names have changed...)"
   ]
  },
  {
   "cell_type": "code",
   "execution_count": 14,
   "metadata": {},
   "outputs": [],
   "source": [
    "Tc = pd.read_csv('raw/2020_countries.txt', names=['country_iso2','country']).set_index('country_iso2').sort_index()\n",
    "Tc.country = Tc.country.str.strip()"
   ]
  },
  {
   "cell_type": "markdown",
   "metadata": {},
   "source": [
    "Google data"
   ]
  },
  {
   "cell_type": "code",
   "execution_count": 15,
   "metadata": {},
   "outputs": [],
   "source": [
    "goog = pd.read_csv('Raw/Global_Mobility_Report.csv', low_memory = False)\n",
    "goog = goog[(goog.sub_region_1.isnull()) & (goog.metro_area.isnull())] # only entire countries"
   ]
  },
  {
   "cell_type": "code",
   "execution_count": 16,
   "metadata": {},
   "outputs": [],
   "source": [
    "vv = [f'sub_region_{i}' for i in [1,2]]\n",
    "for v in vv + ['metro_area', 'iso_3166_2_code', 'census_fips_code']: \n",
    "    assert goog[v].isnull().all() # \n",
    "    del goog[v]"
   ]
  },
  {
   "cell_type": "code",
   "execution_count": 17,
   "metadata": {},
   "outputs": [],
   "source": [
    "goog.date = pd.to_datetime(goog.date)"
   ]
  },
  {
   "cell_type": "markdown",
   "metadata": {},
   "source": [
    "# Construct a key between country names in the COVID and temperature datasets"
   ]
  },
  {
   "cell_type": "code",
   "execution_count": 18,
   "metadata": {},
   "outputs": [],
   "source": [
    "countries_C = pd.merge(countries_C, Tc.reset_index(), on='country', how='left')"
   ]
  },
  {
   "cell_type": "code",
   "execution_count": 19,
   "metadata": {},
   "outputs": [
    {
     "name": "stdout",
     "output_type": "stream",
     "text": [
      "There are 70 (of 235) where we cannot find them (either the name is spelled differently or there is no station)\n"
     ]
    }
   ],
   "source": [
    "I = countries_C.country_iso2.isnull()\n",
    "print(f'There are {I.sum()} (of {I.shape[0]}) where we cannot find them (either the name is spelled differently or there is no station)')"
   ]
  },
  {
   "cell_type": "markdown",
   "metadata": {},
   "source": [
    "# Compute daily average temperatures across weather stations\n",
    "\n",
    "The NOAA dataset contains many weather monitoring stations and reports data on a number of different statistics. The unit of observation is a `station_id`-`date`-`statistic` triplet. We are only interested in one statistic, namely `TAVG` (the daily average temperature). One might additionally consider dropping observations where `flag_quality` indicates a problem with the measurement. "
   ]
  },
  {
   "cell_type": "markdown",
   "metadata": {},
   "source": [
    "Compute average of `TAVG` within a (country, date)-pair. \n",
    "\n",
    "NOTE: Temperatures are measured in *tenths of degrees celsius*. "
   ]
  },
  {
   "cell_type": "code",
   "execution_count": 20,
   "metadata": {},
   "outputs": [],
   "source": [
    "I = (T.statistic == 'TAVG')\n",
    "meanT = T.loc[I, ['date', 'country_iso2', 'value']].groupby(['date', 'country_iso2']).value.mean().reset_index().rename(columns={'value':'temperature'})"
   ]
  },
  {
   "cell_type": "markdown",
   "metadata": {},
   "source": [
    "Merge on the country names from the Covid data"
   ]
  },
  {
   "cell_type": "code",
   "execution_count": 21,
   "metadata": {},
   "outputs": [],
   "source": [
    "CandT = pd.merge(countries_C, meanT, on='country_iso2') "
   ]
  },
  {
   "cell_type": "markdown",
   "metadata": {},
   "source": [
    "## Example of temperatures "
   ]
  },
  {
   "cell_type": "code",
   "execution_count": 23,
   "metadata": {},
   "outputs": [
    {
     "data": {
      "image/png": "[encoded data removed]",
      "text/plain": [
       "<Figure size 432x288 with 1 Axes>"
      ]
     },
     "metadata": {
      "needs_background": "light"
     },
     "output_type": "display_data"
    }
   ],
   "source": [
    "ax = CandT[CandT.country.isin([\"Denmark\", \"Italy\", \"United Kingdom\", \"South Africa\"])].groupby([pd.Grouper(key='date', freq='d'), 'country']).temperature.mean().unstack().plot(); "
   ]
  },
  {
   "cell_type": "markdown",
   "metadata": {},
   "source": [
    "# Apple data \n",
    "\n",
    "The Apple mobilitiy data contains indices for mobility, which are based on the relative search volume for trips in the Apple maps platform (releative to January 13 2020). It is a panel over location and date, where locations can be either entire countries or sub-regions or cities. We will focus on entire countries and delete all the other information. "
   ]
  },
  {
   "cell_type": "code",
   "execution_count": 24,
   "metadata": {},
   "outputs": [],
   "source": [
    "# only retain country-wide data\n",
    "A = A[A.geo_type == 'country/region'].copy()\n",
    "for v in ['geo_type', 'alternative_name', 'sub-region', 'country']: \n",
    "    del A[v]"
   ]
  },
  {
   "cell_type": "markdown",
   "metadata": {},
   "source": [
    "## Convert from wide to long\n",
    "\n",
    "The dataset has dates in the columns rather than rows. I.e. it is in *wide* format. "
   ]
  },
  {
   "cell_type": "code",
   "execution_count": 25,
   "metadata": {},
   "outputs": [],
   "source": [
    "# dictionaries to rename columns\n",
    "# assumes that all columns from 2 and onwards are the date variables\n",
    "# we have to insert a \"v\" in front of the variable name to force pandas \n",
    "# to think of the variable as a string. \n",
    "ren = {v:f'v{i}' for i,v in enumerate(A.columns[2:])}\n",
    "ren_back = {i:v for i,v in enumerate(A.columns[2:])} # this will get us back \n",
    "\n",
    "R = pd.wide_to_long(A.rename(columns=ren), stubnames='v', i=['region', 'transportation_type'], j='date')"
   ]
  },
  {
   "cell_type": "code",
   "execution_count": 26,
   "metadata": {},
   "outputs": [],
   "source": [
    "R = R.reset_index(level='date') # make date a variable and not a part of the index\n",
    "R.date = R.date.map(ren_back) # convert from {0,1,2,...} to the correspondinig dates\n",
    "R.date = pd.to_datetime(R.date) # convert from Object to Datetime \n",
    "R = R.reset_index().rename(columns={'v':'mobility', 'region':'country'})"
   ]
  },
  {
   "cell_type": "code",
   "execution_count": 27,
   "metadata": {},
   "outputs": [],
   "source": [
    "# long to wide: get one row per country, and different transportation types as variables\n",
    "R = R.set_index(['country', 'date', 'transportation_type']).unstack()\n",
    "\n",
    "# collapse multilevel column index \n",
    "R.columns = [' '.join(col).strip() for col in R.columns.values]\n",
    "R.sort_index(inplace=True)\n",
    "\n",
    "# spaces in names are problematic: make underscores\n",
    "R.columns = [x.replace(' ', '_') for x in R.columns.values]"
   ]
  },
  {
   "cell_type": "code",
   "execution_count": 28,
   "metadata": {},
   "outputs": [
    {
     "data": {
      "text/html": [
       "<div>\n",
       "<style scoped>\n",
       "    .dataframe tbody tr th:only-of-type {\n",
       "        vertical-align: middle;\n",
       "    }\n",
       "\n",
       "    .dataframe tbody tr th {\n",
       "        vertical-align: top;\n",
       "    }\n",
       "\n",
       "    .dataframe thead th {\n",
       "        text-align: right;\n",
       "    }\n",
       "</style>\n",
       "<table border=\"1\" class=\"dataframe\">\n",
       "  <thead>\n",
       "    <tr style=\"text-align: right;\">\n",
       "      <th></th>\n",
       "      <th></th>\n",
       "      <th>mobility_driving</th>\n",
       "      <th>mobility_transit</th>\n",
       "      <th>mobility_walking</th>\n",
       "    </tr>\n",
       "    <tr>\n",
       "      <th>country</th>\n",
       "      <th>date</th>\n",
       "      <th></th>\n",
       "      <th></th>\n",
       "      <th></th>\n",
       "    </tr>\n",
       "  </thead>\n",
       "  <tbody>\n",
       "    <tr>\n",
       "      <th rowspan=\"5\" valign=\"top\">Albania</th>\n",
       "      <th>2020-01-13</th>\n",
       "      <td>100.00</td>\n",
       "      <td>NaN</td>\n",
       "      <td>100.00</td>\n",
       "    </tr>\n",
       "    <tr>\n",
       "      <th>2020-01-14</th>\n",
       "      <td>95.30</td>\n",
       "      <td>NaN</td>\n",
       "      <td>100.68</td>\n",
       "    </tr>\n",
       "    <tr>\n",
       "      <th>2020-01-15</th>\n",
       "      <td>101.43</td>\n",
       "      <td>NaN</td>\n",
       "      <td>98.93</td>\n",
       "    </tr>\n",
       "    <tr>\n",
       "      <th>2020-01-16</th>\n",
       "      <td>97.20</td>\n",
       "      <td>NaN</td>\n",
       "      <td>98.46</td>\n",
       "    </tr>\n",
       "    <tr>\n",
       "      <th>2020-01-17</th>\n",
       "      <td>103.55</td>\n",
       "      <td>NaN</td>\n",
       "      <td>100.85</td>\n",
       "    </tr>\n",
       "    <tr>\n",
       "      <th>...</th>\n",
       "      <th>...</th>\n",
       "      <td>...</td>\n",
       "      <td>...</td>\n",
       "      <td>...</td>\n",
       "    </tr>\n",
       "    <tr>\n",
       "      <th rowspan=\"5\" valign=\"top\">Vietnam</th>\n",
       "      <th>2021-11-11</th>\n",
       "      <td>87.67</td>\n",
       "      <td>NaN</td>\n",
       "      <td>140.08</td>\n",
       "    </tr>\n",
       "    <tr>\n",
       "      <th>2021-11-12</th>\n",
       "      <td>97.67</td>\n",
       "      <td>NaN</td>\n",
       "      <td>153.56</td>\n",
       "    </tr>\n",
       "    <tr>\n",
       "      <th>2021-11-13</th>\n",
       "      <td>104.89</td>\n",
       "      <td>NaN</td>\n",
       "      <td>167.52</td>\n",
       "    </tr>\n",
       "    <tr>\n",
       "      <th>2021-11-14</th>\n",
       "      <td>95.76</td>\n",
       "      <td>NaN</td>\n",
       "      <td>153.14</td>\n",
       "    </tr>\n",
       "    <tr>\n",
       "      <th>2021-11-15</th>\n",
       "      <td>91.02</td>\n",
       "      <td>NaN</td>\n",
       "      <td>144.01</td>\n",
       "    </tr>\n",
       "  </tbody>\n",
       "</table>\n",
       "<p>42399 rows × 3 columns</p>\n",
       "</div>"
      ],
      "text/plain": [
       "                    mobility_driving  mobility_transit  mobility_walking\n",
       "country date                                                            \n",
       "Albania 2020-01-13            100.00               NaN            100.00\n",
       "        2020-01-14             95.30               NaN            100.68\n",
       "        2020-01-15            101.43               NaN             98.93\n",
       "        2020-01-16             97.20               NaN             98.46\n",
       "        2020-01-17            103.55               NaN            100.85\n",
       "...                              ...               ...               ...\n",
       "Vietnam 2021-11-11             87.67               NaN            140.08\n",
       "        2021-11-12             97.67               NaN            153.56\n",
       "        2021-11-13            104.89               NaN            167.52\n",
       "        2021-11-14             95.76               NaN            153.14\n",
       "        2021-11-15             91.02               NaN            144.01\n",
       "\n",
       "[42399 rows x 3 columns]"
      ]
     },
     "execution_count": 28,
     "metadata": {},
     "output_type": "execute_result"
    }
   ],
   "source": [
    "# look at the beautiful frame\n",
    "R"
   ]
  },
  {
   "cell_type": "code",
   "execution_count": 29,
   "metadata": {},
   "outputs": [
    {
     "data": {
      "text/html": [
       "<div>\n",
       "<style scoped>\n",
       "    .dataframe tbody tr th:only-of-type {\n",
       "        vertical-align: middle;\n",
       "    }\n",
       "\n",
       "    .dataframe tbody tr th {\n",
       "        vertical-align: top;\n",
       "    }\n",
       "\n",
       "    .dataframe thead th {\n",
       "        text-align: right;\n",
       "    }\n",
       "</style>\n",
       "<table border=\"1\" class=\"dataframe\">\n",
       "  <thead>\n",
       "    <tr style=\"text-align: right;\">\n",
       "      <th></th>\n",
       "      <th>iso_code</th>\n",
       "      <th>country</th>\n",
       "      <th>country_iso2</th>\n",
       "    </tr>\n",
       "  </thead>\n",
       "  <tbody>\n",
       "    <tr>\n",
       "      <th>0</th>\n",
       "      <td>AFG</td>\n",
       "      <td>Afghanistan</td>\n",
       "      <td>AF</td>\n",
       "    </tr>\n",
       "    <tr>\n",
       "      <th>1</th>\n",
       "      <td>OWID_AFR</td>\n",
       "      <td>Africa</td>\n",
       "      <td>NaN</td>\n",
       "    </tr>\n",
       "    <tr>\n",
       "      <th>2</th>\n",
       "      <td>ALB</td>\n",
       "      <td>Albania</td>\n",
       "      <td>AL</td>\n",
       "    </tr>\n",
       "    <tr>\n",
       "      <th>3</th>\n",
       "      <td>DZA</td>\n",
       "      <td>Algeria</td>\n",
       "      <td>AG</td>\n",
       "    </tr>\n",
       "    <tr>\n",
       "      <th>4</th>\n",
       "      <td>AND</td>\n",
       "      <td>Andorra</td>\n",
       "      <td>NaN</td>\n",
       "    </tr>\n",
       "    <tr>\n",
       "      <th>...</th>\n",
       "      <td>...</td>\n",
       "      <td>...</td>\n",
       "      <td>...</td>\n",
       "    </tr>\n",
       "    <tr>\n",
       "      <th>230</th>\n",
       "      <td>VNM</td>\n",
       "      <td>Vietnam</td>\n",
       "      <td>VM</td>\n",
       "    </tr>\n",
       "    <tr>\n",
       "      <th>231</th>\n",
       "      <td>WLF</td>\n",
       "      <td>Wallis and Futuna</td>\n",
       "      <td>NaN</td>\n",
       "    </tr>\n",
       "    <tr>\n",
       "      <th>232</th>\n",
       "      <td>YEM</td>\n",
       "      <td>Yemen</td>\n",
       "      <td>NaN</td>\n",
       "    </tr>\n",
       "    <tr>\n",
       "      <th>233</th>\n",
       "      <td>ZMB</td>\n",
       "      <td>Zambia</td>\n",
       "      <td>ZA</td>\n",
       "    </tr>\n",
       "    <tr>\n",
       "      <th>234</th>\n",
       "      <td>ZWE</td>\n",
       "      <td>Zimbabwe</td>\n",
       "      <td>ZI</td>\n",
       "    </tr>\n",
       "  </tbody>\n",
       "</table>\n",
       "<p>235 rows × 3 columns</p>\n",
       "</div>"
      ],
      "text/plain": [
       "     iso_code            country country_iso2\n",
       "0         AFG        Afghanistan           AF\n",
       "1    OWID_AFR             Africa          NaN\n",
       "2         ALB            Albania           AL\n",
       "3         DZA            Algeria           AG\n",
       "4         AND            Andorra          NaN\n",
       "..        ...                ...          ...\n",
       "230       VNM            Vietnam           VM\n",
       "231       WLF  Wallis and Futuna          NaN\n",
       "232       YEM              Yemen          NaN\n",
       "233       ZMB             Zambia           ZA\n",
       "234       ZWE           Zimbabwe           ZI\n",
       "\n",
       "[235 rows x 3 columns]"
      ]
     },
     "execution_count": 29,
     "metadata": {},
     "output_type": "execute_result"
    }
   ],
   "source": [
    "countries_C"
   ]
  },
  {
   "cell_type": "markdown",
   "metadata": {},
   "source": [
    "# Merge Datasets"
   ]
  },
  {
   "cell_type": "markdown",
   "metadata": {},
   "source": [
    "## temperatures \n"
   ]
  },
  {
   "cell_type": "code",
   "execution_count": 30,
   "metadata": {},
   "outputs": [],
   "source": [
    "C2 = pd.merge(C, CandT[['iso_code', 'temperature', 'date']], on=['iso_code', 'date'], how='left')"
   ]
  },
  {
   "cell_type": "markdown",
   "metadata": {},
   "source": [
    "## mobility"
   ]
  },
  {
   "cell_type": "code",
   "execution_count": 31,
   "metadata": {},
   "outputs": [],
   "source": [
    "C2 = C2.set_index(['country', 'date']).sort_index()"
   ]
  },
  {
   "cell_type": "code",
   "execution_count": 32,
   "metadata": {},
   "outputs": [],
   "source": [
    "C2 = C2.join(R)"
   ]
  },
  {
   "cell_type": "markdown",
   "metadata": {},
   "source": [
    "Print some details about the failed merges between the Apple and Covid datasets. "
   ]
  },
  {
   "cell_type": "code",
   "execution_count": 33,
   "metadata": {},
   "outputs": [
    {
     "name": "stdout",
     "output_type": "stream",
     "text": [
      "No Covid data for these countries where we have Apple data: ['Czech Republic', 'Republic of Korea']\n"
     ]
    }
   ],
   "source": [
    "cc = [c for c in R.index.get_level_values('country').unique() if c not in countries_C.country.values]\n",
    "print(f'No Covid data for these countries where we have Apple data: {cc}')"
   ]
  },
  {
   "cell_type": "code",
   "execution_count": 34,
   "metadata": {},
   "outputs": [
    {
     "name": "stdout",
     "output_type": "stream",
     "text": [
      "There are 174 countries where we have Covid data but no Apple mobility data (e.g. ['Pitcairn' 'Kenya' 'Kiribati'])\n"
     ]
    }
   ],
   "source": [
    "cc = [c for c in countries_C.country.values if c not in R.index.get_level_values('country').unique()]\n",
    "print(f'There are {len(cc)} countries where we have Covid data but no Apple mobility data (e.g. {np.random.choice(cc, 3)})')"
   ]
  },
  {
   "cell_type": "code",
   "execution_count": 35,
   "metadata": {},
   "outputs": [
    {
     "name": "stdout",
     "output_type": "stream",
     "text": [
      "--- missing values in final dataset of apple mobilityi values ---\n"
     ]
    },
    {
     "data": {
      "text/plain": [
       "mobility_driving    0.708168\n",
       "mobility_walking    0.708168\n",
       "mobility_transit    0.873209\n",
       "dtype: float64"
      ]
     },
     "execution_count": 35,
     "metadata": {},
     "output_type": "execute_result"
    }
   ],
   "source": [
    "print('--- missing values in final dataset of apple mobilityi values ---')\n",
    "C2[['mobility_driving', 'mobility_walking', 'mobility_transit']].isnull().mean()"
   ]
  },
  {
   "cell_type": "markdown",
   "metadata": {},
   "source": [
    "## Google data"
   ]
  },
  {
   "cell_type": "markdown",
   "metadata": {},
   "source": [
    "The country region code does not conform with NOAA, so it is not currently in use. "
   ]
  },
  {
   "cell_type": "code",
   "execution_count": 36,
   "metadata": {},
   "outputs": [],
   "source": [
    "del goog['country_region_code']"
   ]
  },
  {
   "cell_type": "markdown",
   "metadata": {},
   "source": [
    "Variable names are so long that it causes problems sometimes. So we shorten them a bit. "
   ]
  },
  {
   "cell_type": "code",
   "execution_count": 37,
   "metadata": {},
   "outputs": [],
   "source": [
    "goog.rename(columns={\"country_region\":\"country\", \n",
    "                    'retail_and_recreation_percent_change_from_baseline':'location_retail_and_recreation',\n",
    "                    'grocery_and_pharmacy_percent_change_from_baseline':'location_grocery_and_pharmacy', 'parks_percent_change_from_baseline':'location_parks',\n",
    "                    'transit_stations_percent_change_from_baseline':'location_transit_stations','workplaces_percent_change_from_baseline':'location_workplaces',\n",
    "                    'residential_percent_change_from_baseline':'location_residential'}, inplace=True)"
   ]
  },
  {
   "cell_type": "markdown",
   "metadata": {},
   "source": [
    "Find the rows in the Google data that we have an exact match on for country. "
   ]
  },
  {
   "cell_type": "code",
   "execution_count": 38,
   "metadata": {},
   "outputs": [],
   "source": [
    "I = goog.country.isin(C2.index.get_level_values('country'))"
   ]
  },
  {
   "cell_type": "code",
   "execution_count": 39,
   "metadata": {},
   "outputs": [
    {
     "name": "stdout",
     "output_type": "stream",
     "text": [
      "We match 96.35% of rows\n"
     ]
    }
   ],
   "source": [
    "print(f'We match {100.*I.mean():5.2f}% of rows')"
   ]
  },
  {
   "cell_type": "markdown",
   "metadata": {},
   "source": [
    "Merge on to remaining dataset "
   ]
  },
  {
   "cell_type": "code",
   "execution_count": 40,
   "metadata": {},
   "outputs": [],
   "source": [
    "C2 = C2.join(goog[I].set_index(['country', 'date']))"
   ]
  },
  {
   "cell_type": "markdown",
   "metadata": {},
   "source": [
    "# Output"
   ]
  },
  {
   "cell_type": "code",
   "execution_count": 41,
   "metadata": {},
   "outputs": [],
   "source": [
    "C2.to_csv('covid.csv')"
   ]
  },
  {
   "cell_type": "code",
   "execution_count": 42,
   "metadata": {},
   "outputs": [],
   "source": [
    "# delete unzipped climate data files\n",
    "for y in years: \n",
    "    os.remove(f'Raw/{y}.csv')"
   ]
  }
 ],
 "metadata": {
  "interpreter": {
   "hash": "7d7da66137592ac323fdae235f73f52cf7e1b708075c75a7c5667c329f8e3fd0"
  },
  "kernelspec": {
   "display_name": "Python 3.9.4 64-bit ('py39': conda)",
   "name": "python3"
  },
  "language_info": {
   "codemirror_mode": {
    "name": "ipython",
    "version": 3
   },
   "file_extension": ".py",
   "mimetype": "text/x-python",
   "name": "python",
   "nbconvert_exporter": "python",
   "pygments_lexer": "ipython3",
   "version": "3.9.4"
  }
 },
 "nbformat": 4,
 "nbformat_minor": 4
}
